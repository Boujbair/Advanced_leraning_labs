{
  "cells": [
    {
      "cell_type": "markdown",
      "metadata": {
        "id": "AiTeFlPNbTyt"
      },
      "source": [
        "# Artificial Neural Networks with Keras"
      ]
    },
    {
      "cell_type": "markdown",
      "metadata": {
        "id": "_tUocpmLbTyy"
      },
      "source": [
        "<table align=\"left\">\n",
        "  <td>\n",
        "    <a target=\"_blank\" href=\"https://colab.research.google.com/github/AbdelMahm/INPT-2020/blob/master/Notebooks_DL/ANN_with_keras.ipynb\"><img src=\"https://colab.research.google.com/img/colab_favicon_256px.png\" />Run in Google Colab</a>\n",
        "  </td>\n",
        "</table>"
      ]
    },
    {
      "cell_type": "markdown",
      "metadata": {
        "id": "98jVHJM8bTyz"
      },
      "source": [
        "# Setup"
      ]
    },
    {
      "cell_type": "code",
      "execution_count": 2,
      "metadata": {
        "id": "s0p-tlbvbTy0",
        "outputId": "0393de2e-792e-4fbb-e016-069fdab9857d",
        "colab": {
          "base_uri": "https://localhost:8080/",
          "height": 165
        }
      },
      "outputs": [
        {
          "output_type": "error",
          "ename": "SyntaxError",
          "evalue": "ignored",
          "traceback": [
            "\u001b[0;36m  File \u001b[0;32m\"<ipython-input-2-bccb90a8cf41>\"\u001b[0;36m, line \u001b[0;32m1\u001b[0m\n\u001b[0;31m    Firstly, let's import a few common modules, ensure MatplotLib plots figures inline and prepare a function to save the figures. We also check that Python 3.5 or later is installed (although Python 2.x may work, it is deprecated so we strongly recommend you use Python 3 instead), as well as Scikit-Learn ≥0.20 and TensorFlow ≥2.0.\u001b[0m\n\u001b[0m                                                                                                                                                                                                                                                                                                                                             ^\u001b[0m\n\u001b[0;31mSyntaxError\u001b[0m\u001b[0;31m:\u001b[0m EOL while scanning string literal\n"
          ]
        }
      ],
      "source": [
        "Firstly, let's import a few common modules, ensure MatplotLib plots figures inline and prepare a function to save the figures. We also check that Python 3.5 or later is installed (although Python 2.x may work, it is deprecated so we strongly recommend you use Python 3 instead), as well as Scikit-Learn ≥0.20 and TensorFlow ≥2.0."
      ]
    },
    {
      "cell_type": "code",
      "execution_count": 3,
      "metadata": {
        "id": "sZQbnDy8bTy1"
      },
      "outputs": [],
      "source": [
        "# TensorFlow ≥2.0 is required\n",
        "import tensorflow as tf\n",
        "\n",
        "# Common imports\n",
        "import numpy as np\n",
        "import os\n",
        "\n",
        "# to make this notebook's output stable across runs\n",
        "np.random.seed(42)\n",
        "\n",
        "# To plot pretty figures\n",
        "%matplotlib inline\n",
        "import matplotlib as mpl\n",
        "import matplotlib.pyplot as plt\n",
        "mpl.rc('axes', labelsize=14)\n",
        "mpl.rc('xtick', labelsize=12)\n",
        "mpl.rc('ytick', labelsize=12)\n",
        "\n",
        "# Ignore useless warnings (see SciPy issue #5998)\n",
        "import warnings\n",
        "warnings.filterwarnings(action=\"ignore\", message=\"^internal gelsd\")"
      ]
    },
    {
      "cell_type": "markdown",
      "metadata": {
        "id": "_TLungBubTy2"
      },
      "source": [
        "# Building an Image Classifier"
      ]
    },
    {
      "cell_type": "markdown",
      "metadata": {
        "id": "HUg1loR1bTy3"
      },
      "source": [
        "First let's import TensorFlow and Keras."
      ]
    },
    {
      "cell_type": "code",
      "execution_count": 4,
      "metadata": {
        "collapsed": true,
        "id": "Z7QyodcobTy4"
      },
      "outputs": [],
      "source": [
        "import tensorflow as tf\n",
        "from tensorflow import keras"
      ]
    },
    {
      "cell_type": "code",
      "execution_count": 5,
      "metadata": {
        "id": "X3tMwlRIbTy4",
        "outputId": "93eb9a1b-5d25-436c-a3a7-2ec429d1c1ca",
        "colab": {
          "base_uri": "https://localhost:8080/",
          "height": 35
        }
      },
      "outputs": [
        {
          "output_type": "execute_result",
          "data": {
            "text/plain": [
              "'2.8.0'"
            ],
            "application/vnd.google.colaboratory.intrinsic+json": {
              "type": "string"
            }
          },
          "metadata": {},
          "execution_count": 5
        }
      ],
      "source": [
        "tf.__version__"
      ]
    },
    {
      "cell_type": "markdown",
      "metadata": {
        "id": "2Oonb6D4bTy5"
      },
      "source": [
        "Let's start by loading the fashion MNIST dataset. Keras has a number of functions to load popular datasets in `keras.datasets`. The dataset is already split for you between a training set and a test set, but it can be useful to split the training set further to have a validation set:"
      ]
    },
    {
      "cell_type": "code",
      "execution_count": 6,
      "metadata": {
        "collapsed": true,
        "id": "hkS-sBagbTy6",
        "outputId": "e158badd-4280-40ab-bbc7-f659e3b04088",
        "colab": {
          "base_uri": "https://localhost:8080/"
        }
      },
      "outputs": [
        {
          "output_type": "stream",
          "name": "stdout",
          "text": [
            "Downloading data from https://storage.googleapis.com/tensorflow/tf-keras-datasets/train-labels-idx1-ubyte.gz\n",
            "32768/29515 [=================================] - 0s 0us/step\n",
            "40960/29515 [=========================================] - 0s 0us/step\n",
            "Downloading data from https://storage.googleapis.com/tensorflow/tf-keras-datasets/train-images-idx3-ubyte.gz\n",
            "26427392/26421880 [==============================] - 0s 0us/step\n",
            "26435584/26421880 [==============================] - 0s 0us/step\n",
            "Downloading data from https://storage.googleapis.com/tensorflow/tf-keras-datasets/t10k-labels-idx1-ubyte.gz\n",
            "16384/5148 [===============================================================================================] - 0s 0us/step\n",
            "Downloading data from https://storage.googleapis.com/tensorflow/tf-keras-datasets/t10k-images-idx3-ubyte.gz\n",
            "4423680/4422102 [==============================] - 0s 0us/step\n",
            "4431872/4422102 [==============================] - 0s 0us/step\n"
          ]
        }
      ],
      "source": [
        "fashion_mnist = keras.datasets.fashion_mnist\n",
        "(X_train_full, y_train_full), (X_test, y_test) = fashion_mnist.load_data()"
      ]
    },
    {
      "cell_type": "markdown",
      "metadata": {
        "id": "JIKcU0IDbTy6"
      },
      "source": [
        "The training set contains 60,000 grayscale images, each 28x28 pixels:"
      ]
    },
    {
      "cell_type": "code",
      "execution_count": 7,
      "metadata": {
        "id": "ayoCZOmkbTy7",
        "outputId": "9e064be3-c349-4907-820c-bc42692814d8",
        "colab": {
          "base_uri": "https://localhost:8080/"
        }
      },
      "outputs": [
        {
          "output_type": "execute_result",
          "data": {
            "text/plain": [
              "(60000, 28, 28)"
            ]
          },
          "metadata": {},
          "execution_count": 7
        }
      ],
      "source": [
        "X_train_full.shape"
      ]
    },
    {
      "cell_type": "markdown",
      "metadata": {
        "id": "4Du7lqNxbTy7"
      },
      "source": [
        "Each pixel intensity is represented as a byte (0 to 255):"
      ]
    },
    {
      "cell_type": "code",
      "execution_count": 8,
      "metadata": {
        "id": "c6_M-vENbTy7",
        "outputId": "05cc04ce-a4a1-4c8a-9056-982545f53b91",
        "colab": {
          "base_uri": "https://localhost:8080/"
        }
      },
      "outputs": [
        {
          "output_type": "execute_result",
          "data": {
            "text/plain": [
              "dtype('uint8')"
            ]
          },
          "metadata": {},
          "execution_count": 8
        }
      ],
      "source": [
        "X_train_full.dtype"
      ]
    },
    {
      "cell_type": "markdown",
      "metadata": {
        "id": "7aqvoEH5bTy8"
      },
      "source": [
        "Let's split the full training set into a validation set and a (smaller) training set. We also scale the pixel intensities down to the 0-1 range and convert them to floats, by dividing by 255."
      ]
    },
    {
      "cell_type": "code",
      "execution_count": 9,
      "metadata": {
        "collapsed": true,
        "id": "Rtv5OZlwbTy9"
      },
      "outputs": [],
      "source": [
        "X_valid, X_train = X_train_full[:5000] / 255., X_train_full[5000:] / 255.\n",
        "y_valid, y_train = y_train_full[:5000], y_train_full[5000:]\n",
        "X_test = X_test / 255."
      ]
    },
    {
      "cell_type": "markdown",
      "metadata": {
        "id": "2OudTSs0bTy9"
      },
      "source": [
        "You can plot an image using Matplotlib's `imshow()` function, with a `'binary'`\n",
        " color map:"
      ]
    },
    {
      "cell_type": "code",
      "execution_count": 10,
      "metadata": {
        "id": "vZnkJAxjbTy9",
        "outputId": "e23aaf00-d30d-47c4-b9a4-0e8095aaecb4",
        "colab": {
          "base_uri": "https://localhost:8080/",
          "height": 248
        }
      },
      "outputs": [
        {
          "output_type": "display_data",
          "data": {
            "text/plain": [
              "<Figure size 432x288 with 1 Axes>"
            ],
            "image/png": "[encoded data removed]"
          },
          "metadata": {
            "needs_background": "light"
          }
        }
      ],
      "source": [
        "plt.imshow(X_train[999], cmap=\"binary\")\n",
        "plt.axis('off')\n",
        "plt.show()"
      ]
    },
    {
      "cell_type": "markdown",
      "metadata": {
        "id": "yTnjGC9obTy-"
      },
      "source": [
        "The labels are the class IDs (represented as uint8), from 0 to 9:"
      ]
    },
    {
      "cell_type": "code",
      "execution_count": 11,
      "metadata": {
        "id": "SpU_PJDMbTy_",
        "outputId": "1961b949-0fdf-4878-b40b-8032ed48228f",
        "colab": {
          "base_uri": "https://localhost:8080/"
        }
      },
      "outputs": [
        {
          "output_type": "execute_result",
          "data": {
            "text/plain": [
              "array([4, 0, 7, ..., 3, 0, 5], dtype=uint8)"
            ]
          },
          "metadata": {},
          "execution_count": 11
        }
      ],
      "source": [
        "y_train"
      ]
    },
    {
      "cell_type": "markdown",
      "metadata": {
        "id": "8wnz_0DYbTzA"
      },
      "source": [
        "Here are the corresponding class names:"
      ]
    },
    {
      "cell_type": "code",
      "execution_count": 12,
      "metadata": {
        "collapsed": true,
        "id": "RhOFIE5kbTzA"
      },
      "outputs": [],
      "source": [
        "class_names = [\"T-shirt/top\", \"Trouser\", \"Pullover\", \"Dress\", \"Coat\",\n",
        "               \"Sandal\", \"Shirt\", \"Sneaker\", \"Bag\", \"Ankle boot\"]"
      ]
    },
    {
      "cell_type": "markdown",
      "metadata": {
        "id": "fmBvUr5HbTzA"
      },
      "source": [
        "So the first image in the training set is a coat:"
      ]
    },
    {
      "cell_type": "code",
      "execution_count": 13,
      "metadata": {
        "id": "hIgSjtigbTzA",
        "outputId": "62f85543-5995-4732-fa65-6d1b4dfc675a",
        "colab": {
          "base_uri": "https://localhost:8080/",
          "height": 35
        }
      },
      "outputs": [
        {
          "output_type": "execute_result",
          "data": {
            "text/plain": [
              "'Coat'"
            ],
            "application/vnd.google.colaboratory.intrinsic+json": {
              "type": "string"
            }
          },
          "metadata": {},
          "execution_count": 13
        }
      ],
      "source": [
        "class_names[y_train[0]]"
      ]
    },
    {
      "cell_type": "markdown",
      "metadata": {
        "id": "7Z5AqBr7bTzB"
      },
      "source": [
        "The validation set contains 5,000 images, and the test set contains 10,000 images:"
      ]
    },
    {
      "cell_type": "code",
      "execution_count": 14,
      "metadata": {
        "id": "XhD9t6DJbTzB",
        "outputId": "2f62974e-a793-441b-ca5e-0bad7be08c00",
        "colab": {
          "base_uri": "https://localhost:8080/"
        }
      },
      "outputs": [
        {
          "output_type": "execute_result",
          "data": {
            "text/plain": [
              "(5000, 28, 28)"
            ]
          },
          "metadata": {},
          "execution_count": 14
        }
      ],
      "source": [
        "X_valid.shape"
      ]
    },
    {
      "cell_type": "code",
      "execution_count": 15,
      "metadata": {
        "id": "Y7kyZYbkbTzB",
        "outputId": "3520eaab-edd5-41ba-e0dc-8db9b994feb5",
        "colab": {
          "base_uri": "https://localhost:8080/"
        }
      },
      "outputs": [
        {
          "output_type": "execute_result",
          "data": {
            "text/plain": [
              "(10000, 28, 28)"
            ]
          },
          "metadata": {},
          "execution_count": 15
        }
      ],
      "source": [
        "X_test.shape"
      ]
    },
    {
      "cell_type": "markdown",
      "metadata": {
        "id": "qC-nANPNbTzB"
      },
      "source": [
        "Let's take a look at a sample of the images in the dataset:"
      ]
    },
    {
      "cell_type": "code",
      "execution_count": 16,
      "metadata": {
        "id": "igHrIEPPbTzB",
        "outputId": "1acfe924-c39d-467d-f050-23359e9078c9",
        "colab": {
          "base_uri": "https://localhost:8080/",
          "height": 308
        }
      },
      "outputs": [
        {
          "output_type": "display_data",
          "data": {
            "text/plain": [
              "<Figure size 864x345.6 with 40 Axes>"
            ],
            "image/png": "[encoded data removed]"
          },
          "metadata": {
            "needs_background": "light"
          }
        }
      ],
      "source": [
        "n_rows = 4\n",
        "n_cols = 10\n",
        "plt.figure(figsize=(n_cols * 1.2, n_rows * 1.2))\n",
        "for row in range(n_rows):\n",
        "    for col in range(n_cols):\n",
        "        index = n_cols * row + col\n",
        "        plt.subplot(n_rows, n_cols, index + 1)\n",
        "        plt.imshow(X_train[index], cmap=\"binary\", interpolation=\"nearest\")\n",
        "        plt.axis('off')\n",
        "        plt.title(class_names[y_train[index]], fontsize=12)\n",
        "plt.subplots_adjust(wspace=0.2, hspace=0.5)\n",
        "plt.show()"
      ]
    },
    {
      "cell_type": "markdown",
      "metadata": {
        "id": "YRUtVEKWbTzC"
      },
      "source": [
        "## Construct a Model"
      ]
    },
    {
      "cell_type": "code",
      "execution_count": 17,
      "metadata": {
        "collapsed": true,
        "id": "zYNuTz-wbTzC"
      },
      "outputs": [],
      "source": [
        "model = keras.models.Sequential()\n",
        "model.add(keras.layers.Flatten(input_shape=[28, 28]))\n",
        "model.add(keras.layers.Dense(300, activation=\"relu\"))\n",
        "model.add(keras.layers.Dense(100, activation=\"relu\"))\n",
        "model.add(keras.layers.Dense(10, activation=\"softmax\"))"
      ]
    },
    {
      "cell_type": "code",
      "execution_count": 18,
      "metadata": {
        "collapsed": true,
        "id": "O3AWirebbTzC"
      },
      "outputs": [],
      "source": [
        "keras.backend.clear_session()\n",
        "np.random.seed(42)"
      ]
    },
    {
      "cell_type": "markdown",
      "metadata": {
        "id": "tXGQocCCbTzC"
      },
      "source": [
        "### or using the folowing method"
      ]
    },
    {
      "cell_type": "code",
      "execution_count": 19,
      "metadata": {
        "collapsed": true,
        "id": "8-7F5oeqbTzC"
      },
      "outputs": [],
      "source": [
        "model = keras.models.Sequential([\n",
        "    keras.layers.Flatten(input_shape=[28, 28]),\n",
        "    keras.layers.Dense(300, activation=\"relu\"),\n",
        "    keras.layers.Dense(100, activation=\"relu\"),\n",
        "    keras.layers.Dense(10, activation=\"softmax\")\n",
        "])"
      ]
    },
    {
      "cell_type": "code",
      "execution_count": 20,
      "metadata": {
        "id": "iI4mkZBPbTzD",
        "outputId": "fc6f7b18-6cd9-40f4-f5c5-9bf3dd32859b",
        "colab": {
          "base_uri": "https://localhost:8080/"
        }
      },
      "outputs": [
        {
          "output_type": "execute_result",
          "data": {
            "text/plain": [
              "[<keras.layers.core.flatten.Flatten at 0x7f9a49023110>,\n",
              " <keras.layers.core.dense.Dense at 0x7f9a49023290>,\n",
              " <keras.layers.core.dense.Dense at 0x7f9a49023610>,\n",
              " <keras.layers.core.dense.Dense at 0x7f9a4f46e490>]"
            ]
          },
          "metadata": {},
          "execution_count": 20
        }
      ],
      "source": [
        "model.layers"
      ]
    },
    {
      "cell_type": "code",
      "execution_count": 21,
      "metadata": {
        "id": "EnviZdIjbTzD",
        "outputId": "54bfe15e-e5c1-4cc3-87f0-7e88490640ed",
        "colab": {
          "base_uri": "https://localhost:8080/"
        }
      },
      "outputs": [
        {
          "output_type": "stream",
          "name": "stdout",
          "text": [
            "Model: \"sequential\"\n",
            "_________________________________________________________________\n",
            " Layer (type)                Output Shape              Param #   \n",
            "=================================================================\n",
            " flatten (Flatten)           (None, 784)               0         \n",
            "                                                                 \n",
            " dense (Dense)               (None, 300)               235500    \n",
            "                                                                 \n",
            " dense_1 (Dense)             (None, 100)               30100     \n",
            "                                                                 \n",
            " dense_2 (Dense)             (None, 10)                1010      \n",
            "                                                                 \n",
            "=================================================================\n",
            "Total params: 266,610\n",
            "Trainable params: 266,610\n",
            "Non-trainable params: 0\n",
            "_________________________________________________________________\n"
          ]
        }
      ],
      "source": [
        "model.summary()"
      ]
    },
    {
      "cell_type": "code",
      "execution_count": 22,
      "metadata": {
        "collapsed": true,
        "id": "P6AdKkmLbTzD"
      },
      "outputs": [],
      "source": [
        "#keras.utils.plot_model(model, \"my_mnist_model.png\", show_shapes=True)"
      ]
    },
    {
      "cell_type": "code",
      "execution_count": 23,
      "metadata": {
        "id": "Y4lXDfvEbTzD",
        "outputId": "953e8d76-bb8e-4c37-cb5f-6030c381bd8d",
        "colab": {
          "base_uri": "https://localhost:8080/",
          "height": 0
        }
      },
      "outputs": [
        {
          "output_type": "execute_result",
          "data": {
            "text/plain": [
              "'dense'"
            ],
            "application/vnd.google.colaboratory.intrinsic+json": {
              "type": "string"
            }
          },
          "metadata": {},
          "execution_count": 23
        }
      ],
      "source": [
        "hidden1 = model.layers[1]\n",
        "hidden1.name"
      ]
    },
    {
      "cell_type": "code",
      "execution_count": 24,
      "metadata": {
        "id": "nQkT-vcKbTzE",
        "outputId": "5573353f-8ae1-4e1c-ea2c-5b2b3efc7ce0",
        "colab": {
          "base_uri": "https://localhost:8080/"
        }
      },
      "outputs": [
        {
          "output_type": "execute_result",
          "data": {
            "text/plain": [
              "True"
            ]
          },
          "metadata": {},
          "execution_count": 24
        }
      ],
      "source": [
        "model.get_layer(hidden1.name) is hidden1"
      ]
    },
    {
      "cell_type": "code",
      "execution_count": 25,
      "metadata": {
        "collapsed": true,
        "id": "gDk1a_JGbTzE"
      },
      "outputs": [],
      "source": [
        "weights, biases = hidden1.get_weights()"
      ]
    },
    {
      "cell_type": "code",
      "execution_count": 26,
      "metadata": {
        "id": "caKmlrczbTzE",
        "outputId": "97724fa9-53db-4744-8190-7c31621a0825",
        "colab": {
          "base_uri": "https://localhost:8080/"
        }
      },
      "outputs": [
        {
          "output_type": "execute_result",
          "data": {
            "text/plain": [
              "array([[ 0.0027388 , -0.06752536, -0.07096191, ..., -0.02249451,\n",
              "         0.05938461,  0.0235191 ],\n",
              "       [-0.01141611, -0.05762197, -0.0093142 , ..., -0.00485109,\n",
              "        -0.05354451,  0.05202761],\n",
              "       [ 0.03387925, -0.04143525,  0.01635664, ...,  0.0515164 ,\n",
              "        -0.02587066, -0.02400334],\n",
              "       ...,\n",
              "       [-0.03162111,  0.06444022,  0.01801638, ..., -0.05940164,\n",
              "        -0.05942958, -0.05624704],\n",
              "       [-0.0383608 , -0.00391198,  0.06306309, ...,  0.06033576,\n",
              "        -0.04565676, -0.05685106],\n",
              "       [-0.02883957, -0.00940864,  0.05724385, ...,  0.07103597,\n",
              "         0.06968899,  0.02075578]], dtype=float32)"
            ]
          },
          "metadata": {},
          "execution_count": 26
        }
      ],
      "source": [
        "weights"
      ]
    },
    {
      "cell_type": "code",
      "execution_count": 27,
      "metadata": {
        "id": "QWd_4lwfbTzE",
        "outputId": "eca7c2aa-bf80-430b-a66b-0b648e52a663",
        "colab": {
          "base_uri": "https://localhost:8080/"
        }
      },
      "outputs": [
        {
          "output_type": "execute_result",
          "data": {
            "text/plain": [
              "(784, 300)"
            ]
          },
          "metadata": {},
          "execution_count": 27
        }
      ],
      "source": [
        "weights.shape"
      ]
    },
    {
      "cell_type": "code",
      "execution_count": 28,
      "metadata": {
        "id": "iiyQsj1DbTzE",
        "outputId": "938fb0cb-ff80-4c27-92dd-75b1190f8c5d",
        "colab": {
          "base_uri": "https://localhost:8080/"
        }
      },
      "outputs": [
        {
          "output_type": "execute_result",
          "data": {
            "text/plain": [
              "array([0., 0., 0., 0., 0., 0., 0., 0., 0., 0., 0., 0., 0., 0., 0., 0., 0.,\n",
              "       0., 0., 0., 0., 0., 0., 0., 0., 0., 0., 0., 0., 0., 0., 0., 0., 0.,\n",
              "       0., 0., 0., 0., 0., 0., 0., 0., 0., 0., 0., 0., 0., 0., 0., 0., 0.,\n",
              "       0., 0., 0., 0., 0., 0., 0., 0., 0., 0., 0., 0., 0., 0., 0., 0., 0.,\n",
              "       0., 0., 0., 0., 0., 0., 0., 0., 0., 0., 0., 0., 0., 0., 0., 0., 0.,\n",
              "       0., 0., 0., 0., 0., 0., 0., 0., 0., 0., 0., 0., 0., 0., 0., 0., 0.,\n",
              "       0., 0., 0., 0., 0., 0., 0., 0., 0., 0., 0., 0., 0., 0., 0., 0., 0.,\n",
              "       0., 0., 0., 0., 0., 0., 0., 0., 0., 0., 0., 0., 0., 0., 0., 0., 0.,\n",
              "       0., 0., 0., 0., 0., 0., 0., 0., 0., 0., 0., 0., 0., 0., 0., 0., 0.,\n",
              "       0., 0., 0., 0., 0., 0., 0., 0., 0., 0., 0., 0., 0., 0., 0., 0., 0.,\n",
              "       0., 0., 0., 0., 0., 0., 0., 0., 0., 0., 0., 0., 0., 0., 0., 0., 0.,\n",
              "       0., 0., 0., 0., 0., 0., 0., 0., 0., 0., 0., 0., 0., 0., 0., 0., 0.,\n",
              "       0., 0., 0., 0., 0., 0., 0., 0., 0., 0., 0., 0., 0., 0., 0., 0., 0.,\n",
              "       0., 0., 0., 0., 0., 0., 0., 0., 0., 0., 0., 0., 0., 0., 0., 0., 0.,\n",
              "       0., 0., 0., 0., 0., 0., 0., 0., 0., 0., 0., 0., 0., 0., 0., 0., 0.,\n",
              "       0., 0., 0., 0., 0., 0., 0., 0., 0., 0., 0., 0., 0., 0., 0., 0., 0.,\n",
              "       0., 0., 0., 0., 0., 0., 0., 0., 0., 0., 0., 0., 0., 0., 0., 0., 0.,\n",
              "       0., 0., 0., 0., 0., 0., 0., 0., 0., 0., 0.], dtype=float32)"
            ]
          },
          "metadata": {},
          "execution_count": 28
        }
      ],
      "source": [
        "biases"
      ]
    },
    {
      "cell_type": "code",
      "execution_count": 29,
      "metadata": {
        "id": "Lk6J1lStbTzE",
        "outputId": "307f576b-aba0-4c58-98de-78dd853d04fe",
        "colab": {
          "base_uri": "https://localhost:8080/"
        }
      },
      "outputs": [
        {
          "output_type": "execute_result",
          "data": {
            "text/plain": [
              "(300,)"
            ]
          },
          "metadata": {},
          "execution_count": 29
        }
      ],
      "source": [
        "biases.shape"
      ]
    },
    {
      "cell_type": "markdown",
      "metadata": {
        "id": "tmT4WRKpbTzE"
      },
      "source": [
        "### Compile the Model\n",
        "Here you can chose the loss function, the optimizer, the performance metric, etc. check Keras documentation for further details."
      ]
    },
    {
      "cell_type": "code",
      "execution_count": 30,
      "metadata": {
        "collapsed": true,
        "id": "fF43xv4xbTzF"
      },
      "outputs": [],
      "source": [
        "model.compile(loss=\"sparse_categorical_crossentropy\",\n",
        "              optimizer=\"sgd\",\n",
        "              metrics=[\"accuracy\"])"
      ]
    },
    {
      "cell_type": "markdown",
      "metadata": {
        "id": "hSpGu5lJbTzF"
      },
      "source": [
        "This is equivalent to:"
      ]
    },
    {
      "cell_type": "markdown",
      "metadata": {
        "id": "0onptGdEbTzF"
      },
      "source": [
        "```python\n",
        "model.compile(loss=keras.losses.sparse_categorical_crossentropy,\n",
        "              optimizer=keras.optimizers.SGD(),\n",
        "              metrics=[keras.metrics.sparse_categorical_accuracy])\n",
        "```"
      ]
    },
    {
      "cell_type": "markdown",
      "metadata": {
        "id": "pI9UzodhbTzF"
      },
      "source": [
        "### Train the model\n",
        "Here you can chose how many epochs you need and the batch size."
      ]
    },
    {
      "cell_type": "code",
      "execution_count": 31,
      "metadata": {
        "id": "0RV4IfxFbTzF",
        "outputId": "5b8f4209-2d89-49fa-fdbe-99ee136bb2a1",
        "colab": {
          "base_uri": "https://localhost:8080/"
        }
      },
      "outputs": [
        {
          "output_type": "stream",
          "name": "stdout",
          "text": [
            "Epoch 1/30\n",
            "1719/1719 [==============================] - 8s 4ms/step - loss: 0.7183 - accuracy: 0.7649 - val_loss: 0.5086 - val_accuracy: 0.8278\n",
            "Epoch 2/30\n",
            "1719/1719 [==============================] - 7s 4ms/step - loss: 0.4883 - accuracy: 0.8306 - val_loss: 0.4369 - val_accuracy: 0.8498\n",
            "Epoch 3/30\n",
            "1719/1719 [==============================] - 7s 4ms/step - loss: 0.4423 - accuracy: 0.8461 - val_loss: 0.4341 - val_accuracy: 0.8510\n",
            "Epoch 4/30\n",
            "1719/1719 [==============================] - 8s 4ms/step - loss: 0.4156 - accuracy: 0.8549 - val_loss: 0.3983 - val_accuracy: 0.8690\n",
            "Epoch 5/30\n",
            "1719/1719 [==============================] - 8s 5ms/step - loss: 0.3960 - accuracy: 0.8615 - val_loss: 0.4074 - val_accuracy: 0.8606\n",
            "Epoch 6/30\n",
            "1719/1719 [==============================] - 7s 4ms/step - loss: 0.3785 - accuracy: 0.8673 - val_loss: 0.3736 - val_accuracy: 0.8696\n",
            "Epoch 7/30\n",
            "1719/1719 [==============================] - 7s 4ms/step - loss: 0.3656 - accuracy: 0.8711 - val_loss: 0.3788 - val_accuracy: 0.8702\n",
            "Epoch 8/30\n",
            "1719/1719 [==============================] - 7s 4ms/step - loss: 0.3549 - accuracy: 0.8751 - val_loss: 0.3672 - val_accuracy: 0.8682\n",
            "Epoch 9/30\n",
            "1719/1719 [==============================] - 7s 4ms/step - loss: 0.3443 - accuracy: 0.8779 - val_loss: 0.3518 - val_accuracy: 0.8796\n",
            "Epoch 10/30\n",
            "1719/1719 [==============================] - 7s 4ms/step - loss: 0.3348 - accuracy: 0.8811 - val_loss: 0.3510 - val_accuracy: 0.8774\n",
            "Epoch 11/30\n",
            "1719/1719 [==============================] - 7s 4ms/step - loss: 0.3250 - accuracy: 0.8847 - val_loss: 0.3419 - val_accuracy: 0.8796\n",
            "Epoch 12/30\n",
            "1719/1719 [==============================] - 7s 4ms/step - loss: 0.3176 - accuracy: 0.8865 - val_loss: 0.3326 - val_accuracy: 0.8812\n",
            "Epoch 13/30\n",
            "1719/1719 [==============================] - 7s 4ms/step - loss: 0.3089 - accuracy: 0.8890 - val_loss: 0.3390 - val_accuracy: 0.8786\n",
            "Epoch 14/30\n",
            "1719/1719 [==============================] - 7s 4ms/step - loss: 0.3026 - accuracy: 0.8929 - val_loss: 0.3301 - val_accuracy: 0.8848\n",
            "Epoch 15/30\n",
            "1719/1719 [==============================] - 7s 4ms/step - loss: 0.2954 - accuracy: 0.8947 - val_loss: 0.3307 - val_accuracy: 0.8830\n",
            "Epoch 16/30\n",
            "1719/1719 [==============================] - 7s 4ms/step - loss: 0.2900 - accuracy: 0.8947 - val_loss: 0.3287 - val_accuracy: 0.8804\n",
            "Epoch 17/30\n",
            "1719/1719 [==============================] - 7s 4ms/step - loss: 0.2840 - accuracy: 0.8976 - val_loss: 0.3121 - val_accuracy: 0.8898\n",
            "Epoch 18/30\n",
            "1719/1719 [==============================] - 7s 4ms/step - loss: 0.2778 - accuracy: 0.9001 - val_loss: 0.3264 - val_accuracy: 0.8844\n",
            "Epoch 19/30\n",
            "1719/1719 [==============================] - 7s 4ms/step - loss: 0.2720 - accuracy: 0.9026 - val_loss: 0.3168 - val_accuracy: 0.8864\n",
            "Epoch 20/30\n",
            "1719/1719 [==============================] - 7s 4ms/step - loss: 0.2669 - accuracy: 0.9040 - val_loss: 0.3428 - val_accuracy: 0.8700\n",
            "Epoch 21/30\n",
            "1719/1719 [==============================] - 7s 4ms/step - loss: 0.2625 - accuracy: 0.9051 - val_loss: 0.3077 - val_accuracy: 0.8892\n",
            "Epoch 22/30\n",
            "1719/1719 [==============================] - 7s 4ms/step - loss: 0.2575 - accuracy: 0.9079 - val_loss: 0.3058 - val_accuracy: 0.8892\n",
            "Epoch 23/30\n",
            "1719/1719 [==============================] - 7s 4ms/step - loss: 0.2519 - accuracy: 0.9097 - val_loss: 0.2989 - val_accuracy: 0.8948\n",
            "Epoch 24/30\n",
            "1719/1719 [==============================] - 7s 4ms/step - loss: 0.2470 - accuracy: 0.9119 - val_loss: 0.3061 - val_accuracy: 0.8898\n",
            "Epoch 25/30\n",
            "1719/1719 [==============================] - 7s 4ms/step - loss: 0.2436 - accuracy: 0.9136 - val_loss: 0.3006 - val_accuracy: 0.8904\n",
            "Epoch 26/30\n",
            "1719/1719 [==============================] - 7s 4ms/step - loss: 0.2381 - accuracy: 0.9144 - val_loss: 0.3012 - val_accuracy: 0.8924\n",
            "Epoch 27/30\n",
            "1719/1719 [==============================] - 7s 4ms/step - loss: 0.2347 - accuracy: 0.9154 - val_loss: 0.2975 - val_accuracy: 0.8914\n",
            "Epoch 28/30\n",
            "1719/1719 [==============================] - 7s 4ms/step - loss: 0.2311 - accuracy: 0.9167 - val_loss: 0.2963 - val_accuracy: 0.8900\n",
            "Epoch 29/30\n",
            "1719/1719 [==============================] - 7s 4ms/step - loss: 0.2265 - accuracy: 0.9191 - val_loss: 0.2943 - val_accuracy: 0.8936\n",
            "Epoch 30/30\n",
            "1719/1719 [==============================] - 8s 5ms/step - loss: 0.2228 - accuracy: 0.9200 - val_loss: 0.3147 - val_accuracy: 0.8878\n"
          ]
        }
      ],
      "source": [
        "history = model.fit(X_train, y_train, batch_size=32, epochs=30,\n",
        "                    validation_data=(X_valid, y_valid))"
      ]
    },
    {
      "cell_type": "code",
      "execution_count": 32,
      "metadata": {
        "id": "AZQopgTHbTzF",
        "outputId": "26b9664c-7d77-448e-b3d8-f16eea5c3577",
        "colab": {
          "base_uri": "https://localhost:8080/"
        }
      },
      "outputs": [
        {
          "output_type": "execute_result",
          "data": {
            "text/plain": [
              "{'epochs': 30, 'steps': 1719, 'verbose': 1}"
            ]
          },
          "metadata": {},
          "execution_count": 32
        }
      ],
      "source": [
        "history.params"
      ]
    },
    {
      "cell_type": "code",
      "execution_count": 33,
      "metadata": {
        "id": "X6OBiqGhbTzG",
        "outputId": "bd92046f-523f-4ab0-a962-cff0d69e962f",
        "colab": {
          "base_uri": "https://localhost:8080/"
        }
      },
      "outputs": [
        {
          "output_type": "stream",
          "name": "stdout",
          "text": [
            "[0, 1, 2, 3, 4, 5, 6, 7, 8, 9, 10, 11, 12, 13, 14, 15, 16, 17, 18, 19, 20, 21, 22, 23, 24, 25, 26, 27, 28, 29]\n"
          ]
        }
      ],
      "source": [
        "print(history.epoch)"
      ]
    },
    {
      "cell_type": "code",
      "execution_count": 34,
      "metadata": {
        "id": "MrXHaRVFbTzG",
        "outputId": "04e3fa3c-01a5-4474-aaf7-68b896af6fee",
        "colab": {
          "base_uri": "https://localhost:8080/"
        }
      },
      "outputs": [
        {
          "output_type": "execute_result",
          "data": {
            "text/plain": [
              "dict_keys(['loss', 'accuracy', 'val_loss', 'val_accuracy'])"
            ]
          },
          "metadata": {},
          "execution_count": 34
        }
      ],
      "source": [
        "history.history.keys()"
      ]
    },
    {
      "cell_type": "markdown",
      "metadata": {
        "id": "zFfM4x_CbTzG"
      },
      "source": [
        "### Plot learning Curves"
      ]
    },
    {
      "cell_type": "code",
      "execution_count": 35,
      "metadata": {
        "id": "-NcNQ0nmbTzG",
        "outputId": "8b94c91d-4931-44c7-81e0-ae129face026",
        "colab": {
          "base_uri": "https://localhost:8080/",
          "height": 328
        }
      },
      "outputs": [
        {
          "output_type": "display_data",
          "data": {
            "text/plain": [
              "<Figure size 576x360 with 1 Axes>"
            ],
            "image/png": "[encoded data removed]"
          },
          "metadata": {
            "needs_background": "light"
          }
        }
      ],
      "source": [
        "import pandas as pd\n",
        "\n",
        "pd.DataFrame(history.history).plot(figsize=(8, 5))\n",
        "plt.grid(True)\n",
        "plt.gca().set_ylim(0, 1)\n",
        "plt.show()"
      ]
    },
    {
      "cell_type": "code",
      "execution_count": 36,
      "metadata": {
        "id": "VPnK7KIybTzG",
        "outputId": "e7c1e935-25c3-4a22-a24c-009da7f93ff0",
        "colab": {
          "base_uri": "https://localhost:8080/"
        }
      },
      "outputs": [
        {
          "output_type": "stream",
          "name": "stdout",
          "text": [
            "313/313 [==============================] - 1s 2ms/step - loss: 0.3465 - accuracy: 0.8797\n"
          ]
        },
        {
          "output_type": "execute_result",
          "data": {
            "text/plain": [
              "[0.346510648727417, 0.8797000050544739]"
            ]
          },
          "metadata": {},
          "execution_count": 36
        }
      ],
      "source": [
        "model.evaluate(X_test, y_test)"
      ]
    },
    {
      "cell_type": "code",
      "execution_count": 37,
      "metadata": {
        "id": "-2JA0aXIbTzH",
        "outputId": "da40f121-9824-49c7-93e6-9e79c58b4fa2",
        "colab": {
          "base_uri": "https://localhost:8080/"
        }
      },
      "outputs": [
        {
          "output_type": "execute_result",
          "data": {
            "text/plain": [
              "array([[0.  , 0.  , 0.  , 0.  , 0.  , 0.01, 0.  , 0.03, 0.  , 0.97],\n",
              "       [0.  , 0.  , 0.98, 0.  , 0.02, 0.  , 0.  , 0.  , 0.  , 0.  ],\n",
              "       [0.  , 1.  , 0.  , 0.  , 0.  , 0.  , 0.  , 0.  , 0.  , 0.  ]],\n",
              "      dtype=float32)"
            ]
          },
          "metadata": {},
          "execution_count": 37
        }
      ],
      "source": [
        "X_new = X_test[:3]\n",
        "y_proba = model.predict(X_new)\n",
        "y_proba.round(2)"
      ]
    },
    {
      "cell_type": "code",
      "execution_count": 38,
      "metadata": {
        "id": "osMM1cXkbTzH",
        "outputId": "ef7df7ba-0082-4eb7-dccb-a4c5dd570984",
        "colab": {
          "base_uri": "https://localhost:8080/"
        }
      },
      "outputs": [
        {
          "output_type": "execute_result",
          "data": {
            "text/plain": [
              "array([9, 2, 1])"
            ]
          },
          "metadata": {},
          "execution_count": 38
        }
      ],
      "source": [
        "y_pred = model.predict(X_new)\n",
        "\n",
        "\n",
        "\n",
        "\n",
        "classes_y=np.argmax(y_pred,axis=1)\n",
        "classes_y"
      ]
    },
    {
      "cell_type": "code",
      "execution_count": 39,
      "metadata": {
        "id": "PSIeouVXbTzH",
        "outputId": "19c8a0dd-2fe0-4f03-e051-325f55ac6e14",
        "colab": {
          "base_uri": "https://localhost:8080/"
        }
      },
      "outputs": [
        {
          "output_type": "execute_result",
          "data": {
            "text/plain": [
              "array(['Ankle boot', 'Pullover', 'Trouser'], dtype='<U11')"
            ]
          },
          "metadata": {},
          "execution_count": 39
        }
      ],
      "source": [
        "np.array(class_names)[classes_y]"
      ]
    },
    {
      "cell_type": "code",
      "execution_count": 40,
      "metadata": {
        "id": "pjdbuiUObTzH",
        "outputId": "2cdf1204-8a8a-4997-8649-e3db70b87d38",
        "colab": {
          "base_uri": "https://localhost:8080/"
        }
      },
      "outputs": [
        {
          "output_type": "execute_result",
          "data": {
            "text/plain": [
              "array([9, 2, 1], dtype=uint8)"
            ]
          },
          "metadata": {},
          "execution_count": 40
        }
      ],
      "source": [
        "y_new = y_test[:3]\n",
        "y_new"
      ]
    },
    {
      "cell_type": "code",
      "execution_count": 41,
      "metadata": {
        "id": "Mdf3TM_6bTzH",
        "outputId": "91f359d0-48d4-4948-f49b-c6f903ce8c2b",
        "colab": {
          "base_uri": "https://localhost:8080/",
          "height": 165
        }
      },
      "outputs": [
        {
          "output_type": "display_data",
          "data": {
            "text/plain": [
              "<Figure size 518.4x172.8 with 3 Axes>"
            ],
            "image/png": "[encoded data removed]"
          },
          "metadata": {
            "needs_background": "light"
          }
        }
      ],
      "source": [
        "plt.figure(figsize=(7.2, 2.4))\n",
        "for index, image in enumerate(X_new):\n",
        "    plt.subplot(1, 3, index + 1)\n",
        "    plt.imshow(image, cmap=\"binary\", interpolation=\"nearest\")\n",
        "    plt.axis('off')\n",
        "    plt.title(class_names[y_test[index]], fontsize=12)\n",
        "plt.subplots_adjust(wspace=0.2, hspace=0.5)\n",
        "plt.show()"
      ]
    },
    {
      "cell_type": "markdown",
      "metadata": {
        "collapsed": true,
        "id": "sjvkiztubTzI"
      },
      "source": [
        "## Exercise"
      ]
    },
    {
      "cell_type": "markdown",
      "metadata": {
        "id": "y6E9s5odbTzI"
      },
      "source": [
        "#### 1) Plot Learning curves when using different optimizers\n",
        "#### 2) Plot Learning curves when using different batch size\n",
        "#### 3) Plot Learning curves when using different number of epochs\n",
        "#### 4) Add additional neurons and use Dropout Layer. Plot Learning curves.\n",
        "#### 5) Use Batch Normalisation\n",
        "#### 6) repeat with more layers\n",
        "#### 7) apply on different datasets"
      ]
    },
    {
      "cell_type": "markdown",
      "source": [
        "### 1-Plot Learning curves when using different optimizers"
      ],
      "metadata": {
        "id": "mzK-RIExdQGb"
      }
    },
    {
      "cell_type": "code",
      "execution_count": 42,
      "metadata": {
        "collapsed": true,
        "id": "5XSOhSGhbTzI"
      },
      "outputs": [],
      "source": [
        "model1 = keras.models.Sequential([\n",
        "    keras.layers.Flatten(input_shape=[28, 28]),\n",
        "    keras.layers.Dense(300, activation=\"relu\"),\n",
        "    keras.layers.Dense(100, activation=\"relu\"),\n",
        "    keras.layers.Dense(10, activation=\"softmax\")\n",
        "])"
      ]
    },
    {
      "cell_type": "code",
      "source": [
        "model1.compile(loss=\"sparse_categorical_crossentropy\",\n",
        "              optimizer=\"adam\",\n",
        "              metrics=[\"accuracy\"])"
      ],
      "metadata": {
        "id": "AunColovdgDy"
      },
      "execution_count": 43,
      "outputs": []
    },
    {
      "cell_type": "code",
      "source": [
        "history1 = model1.fit(X_train, y_train, batch_size=32, epochs=30,\n",
        "                    validation_data=(X_valid, y_valid))"
      ],
      "metadata": {
        "colab": {
          "base_uri": "https://localhost:8080/"
        },
        "id": "VBb0RcjNdjkz",
        "outputId": "5f5f2448-a8bd-423b-f264-7216cac4d95a"
      },
      "execution_count": 44,
      "outputs": [
        {
          "output_type": "stream",
          "name": "stdout",
          "text": [
            "Epoch 1/30\n",
            "1719/1719 [==============================] - 10s 5ms/step - loss: 0.4865 - accuracy: 0.8249 - val_loss: 0.3872 - val_accuracy: 0.8616\n",
            "Epoch 2/30\n",
            "1719/1719 [==============================] - 8s 5ms/step - loss: 0.3657 - accuracy: 0.8643 - val_loss: 0.3480 - val_accuracy: 0.8694\n",
            "Epoch 3/30\n",
            "1719/1719 [==============================] - 9s 5ms/step - loss: 0.3286 - accuracy: 0.8791 - val_loss: 0.3559 - val_accuracy: 0.8682\n",
            "Epoch 4/30\n",
            "1719/1719 [==============================] - 8s 5ms/step - loss: 0.3047 - accuracy: 0.8869 - val_loss: 0.3262 - val_accuracy: 0.8786\n",
            "Epoch 5/30\n",
            "1719/1719 [==============================] - 7s 4ms/step - loss: 0.2864 - accuracy: 0.8931 - val_loss: 0.3324 - val_accuracy: 0.8802\n",
            "Epoch 6/30\n",
            "1719/1719 [==============================] - 8s 4ms/step - loss: 0.2707 - accuracy: 0.8975 - val_loss: 0.3336 - val_accuracy: 0.8862\n",
            "Epoch 7/30\n",
            "1719/1719 [==============================] - 8s 5ms/step - loss: 0.2572 - accuracy: 0.9018 - val_loss: 0.3154 - val_accuracy: 0.8880\n",
            "Epoch 8/30\n",
            "1719/1719 [==============================] - 7s 4ms/step - loss: 0.2476 - accuracy: 0.9066 - val_loss: 0.3048 - val_accuracy: 0.8934\n",
            "Epoch 9/30\n",
            "1719/1719 [==============================] - 8s 4ms/step - loss: 0.2364 - accuracy: 0.9107 - val_loss: 0.3202 - val_accuracy: 0.8868\n",
            "Epoch 10/30\n",
            "1719/1719 [==============================] - 8s 4ms/step - loss: 0.2266 - accuracy: 0.9149 - val_loss: 0.3151 - val_accuracy: 0.8874\n",
            "Epoch 11/30\n",
            "1719/1719 [==============================] - 8s 4ms/step - loss: 0.2158 - accuracy: 0.9184 - val_loss: 0.3174 - val_accuracy: 0.8908\n",
            "Epoch 12/30\n",
            "1719/1719 [==============================] - 8s 4ms/step - loss: 0.2099 - accuracy: 0.9199 - val_loss: 0.3428 - val_accuracy: 0.8862\n",
            "Epoch 13/30\n",
            "1719/1719 [==============================] - 7s 4ms/step - loss: 0.2018 - accuracy: 0.9228 - val_loss: 0.3135 - val_accuracy: 0.8948\n",
            "Epoch 14/30\n",
            "1719/1719 [==============================] - 8s 4ms/step - loss: 0.1968 - accuracy: 0.9251 - val_loss: 0.3223 - val_accuracy: 0.8930\n",
            "Epoch 15/30\n",
            "1719/1719 [==============================] - 8s 4ms/step - loss: 0.1897 - accuracy: 0.9274 - val_loss: 0.3456 - val_accuracy: 0.8964\n",
            "Epoch 16/30\n",
            "1719/1719 [==============================] - 8s 4ms/step - loss: 0.1825 - accuracy: 0.9310 - val_loss: 0.3506 - val_accuracy: 0.8924\n",
            "Epoch 17/30\n",
            "1719/1719 [==============================] - 8s 4ms/step - loss: 0.1769 - accuracy: 0.9328 - val_loss: 0.3405 - val_accuracy: 0.8938\n",
            "Epoch 18/30\n",
            "1719/1719 [==============================] - 8s 5ms/step - loss: 0.1707 - accuracy: 0.9348 - val_loss: 0.3677 - val_accuracy: 0.8920\n",
            "Epoch 19/30\n",
            "1719/1719 [==============================] - 8s 4ms/step - loss: 0.1671 - accuracy: 0.9361 - val_loss: 0.3513 - val_accuracy: 0.8982\n",
            "Epoch 20/30\n",
            "1719/1719 [==============================] - 8s 4ms/step - loss: 0.1603 - accuracy: 0.9391 - val_loss: 0.3459 - val_accuracy: 0.8980\n",
            "Epoch 21/30\n",
            "1719/1719 [==============================] - 7s 4ms/step - loss: 0.1548 - accuracy: 0.9407 - val_loss: 0.3638 - val_accuracy: 0.9006\n",
            "Epoch 22/30\n",
            "1719/1719 [==============================] - 8s 4ms/step - loss: 0.1527 - accuracy: 0.9418 - val_loss: 0.3802 - val_accuracy: 0.8996\n",
            "Epoch 23/30\n",
            "1719/1719 [==============================] - 7s 4ms/step - loss: 0.1481 - accuracy: 0.9444 - val_loss: 0.3945 - val_accuracy: 0.8928\n",
            "Epoch 24/30\n",
            "1719/1719 [==============================] - 8s 4ms/step - loss: 0.1418 - accuracy: 0.9461 - val_loss: 0.3731 - val_accuracy: 0.8984\n",
            "Epoch 25/30\n",
            "1719/1719 [==============================] - 8s 4ms/step - loss: 0.1375 - accuracy: 0.9477 - val_loss: 0.3961 - val_accuracy: 0.8970\n",
            "Epoch 26/30\n",
            "1719/1719 [==============================] - 8s 4ms/step - loss: 0.1397 - accuracy: 0.9467 - val_loss: 0.4309 - val_accuracy: 0.8946\n",
            "Epoch 27/30\n",
            "1719/1719 [==============================] - 8s 4ms/step - loss: 0.1328 - accuracy: 0.9489 - val_loss: 0.4494 - val_accuracy: 0.8936\n",
            "Epoch 28/30\n",
            "1719/1719 [==============================] - 8s 5ms/step - loss: 0.1322 - accuracy: 0.9497 - val_loss: 0.4103 - val_accuracy: 0.8958\n",
            "Epoch 29/30\n",
            "1719/1719 [==============================] - 7s 4ms/step - loss: 0.1284 - accuracy: 0.9502 - val_loss: 0.4083 - val_accuracy: 0.8970\n",
            "Epoch 30/30\n",
            "1719/1719 [==============================] - 8s 4ms/step - loss: 0.1243 - accuracy: 0.9521 - val_loss: 0.4499 - val_accuracy: 0.8950\n"
          ]
        }
      ]
    },
    {
      "cell_type": "code",
      "source": [
        "import pandas as pd\n",
        "\n",
        "pd.DataFrame(history1.history).plot(figsize=(8, 5))\n",
        "plt.grid(True)\n",
        "plt.gca().set_ylim(0, 1)\n",
        "plt.show()\n"
      ],
      "metadata": {
        "colab": {
          "base_uri": "https://localhost:8080/",
          "height": 328
        },
        "id": "Z8F9kS0AdjoD",
        "outputId": "9b13631a-a227-4ddd-9904-37bd8c768182"
      },
      "execution_count": 45,
      "outputs": [
        {
          "output_type": "display_data",
          "data": {
            "text/plain": [
              "<Figure size 576x360 with 1 Axes>"
            ],
            "image/png": "[encoded data removed]"
          },
          "metadata": {
            "needs_background": "light"
          }
        }
      ]
    },
    {
      "cell_type": "markdown",
      "source": [
        "### 2-Plot Learning curves when using different batch size"
      ],
      "metadata": {
        "id": "YTfr9ucAgEH7"
      }
    },
    {
      "cell_type": "code",
      "source": [
        "model2 = keras.models.Sequential([\n",
        "    keras.layers.Flatten(input_shape=[28, 28]),\n",
        "    keras.layers.Dense(300, activation=\"relu\"),\n",
        "    keras.layers.Dense(100, activation=\"relu\"),\n",
        "    keras.layers.Dense(10, activation=\"softmax\")\n",
        "])"
      ],
      "metadata": {
        "id": "pK2Xnfg1gKR1"
      },
      "execution_count": 46,
      "outputs": []
    },
    {
      "cell_type": "code",
      "source": [
        "model2.compile(loss=\"sparse_categorical_crossentropy\",\n",
        "              optimizer=\"sgd\",\n",
        "              metrics=[\"accuracy\"])"
      ],
      "metadata": {
        "id": "pWW8BWdjgYkw"
      },
      "execution_count": 47,
      "outputs": []
    },
    {
      "cell_type": "code",
      "source": [
        "history2 = model2.fit(X_train, y_train, batch_size=10, epochs=30,\n",
        "                    validation_data=(X_valid, y_valid))"
      ],
      "metadata": {
        "colab": {
          "base_uri": "https://localhost:8080/"
        },
        "id": "xsyjcrk6gYnc",
        "outputId": "f8c8ddef-b44d-49e2-dbb4-174edc31733e"
      },
      "execution_count": 48,
      "outputs": [
        {
          "output_type": "stream",
          "name": "stdout",
          "text": [
            "Epoch 1/30\n",
            "5500/5500 [==============================] - 18s 3ms/step - loss: 0.5764 - accuracy: 0.7995 - val_loss: 0.4395 - val_accuracy: 0.8468\n",
            "Epoch 2/30\n",
            "5500/5500 [==============================] - 17s 3ms/step - loss: 0.4203 - accuracy: 0.8505 - val_loss: 0.3983 - val_accuracy: 0.8560\n",
            "Epoch 3/30\n",
            "5500/5500 [==============================] - 18s 3ms/step - loss: 0.3768 - accuracy: 0.8640 - val_loss: 0.3516 - val_accuracy: 0.8764\n",
            "Epoch 4/30\n",
            "5500/5500 [==============================] - 17s 3ms/step - loss: 0.3495 - accuracy: 0.8729 - val_loss: 0.3415 - val_accuracy: 0.8776\n",
            "Epoch 5/30\n",
            "5500/5500 [==============================] - 17s 3ms/step - loss: 0.3304 - accuracy: 0.8801 - val_loss: 0.3198 - val_accuracy: 0.8854\n",
            "Epoch 6/30\n",
            "5500/5500 [==============================] - 17s 3ms/step - loss: 0.3129 - accuracy: 0.8867 - val_loss: 0.3468 - val_accuracy: 0.8712\n",
            "Epoch 7/30\n",
            "5500/5500 [==============================] - 17s 3ms/step - loss: 0.2994 - accuracy: 0.8911 - val_loss: 0.3226 - val_accuracy: 0.8836\n",
            "Epoch 8/30\n",
            "5500/5500 [==============================] - 17s 3ms/step - loss: 0.2885 - accuracy: 0.8949 - val_loss: 0.3145 - val_accuracy: 0.8864\n",
            "Epoch 9/30\n",
            "5500/5500 [==============================] - 17s 3ms/step - loss: 0.2782 - accuracy: 0.8975 - val_loss: 0.3074 - val_accuracy: 0.8890\n",
            "Epoch 10/30\n",
            "5500/5500 [==============================] - 17s 3ms/step - loss: 0.2672 - accuracy: 0.9021 - val_loss: 0.3139 - val_accuracy: 0.8874\n",
            "Epoch 11/30\n",
            "5500/5500 [==============================] - 17s 3ms/step - loss: 0.2597 - accuracy: 0.9051 - val_loss: 0.2998 - val_accuracy: 0.8930\n",
            "Epoch 12/30\n",
            "5500/5500 [==============================] - 16s 3ms/step - loss: 0.2527 - accuracy: 0.9076 - val_loss: 0.2944 - val_accuracy: 0.8932\n",
            "Epoch 13/30\n",
            "5500/5500 [==============================] - 17s 3ms/step - loss: 0.2435 - accuracy: 0.9109 - val_loss: 0.3065 - val_accuracy: 0.8898\n",
            "Epoch 14/30\n",
            "5500/5500 [==============================] - 17s 3ms/step - loss: 0.2375 - accuracy: 0.9126 - val_loss: 0.2940 - val_accuracy: 0.8942\n",
            "Epoch 15/30\n",
            "5500/5500 [==============================] - 17s 3ms/step - loss: 0.2303 - accuracy: 0.9150 - val_loss: 0.2886 - val_accuracy: 0.8982\n",
            "Epoch 16/30\n",
            "5500/5500 [==============================] - 17s 3ms/step - loss: 0.2242 - accuracy: 0.9173 - val_loss: 0.3046 - val_accuracy: 0.8904\n",
            "Epoch 17/30\n",
            "5500/5500 [==============================] - 17s 3ms/step - loss: 0.2181 - accuracy: 0.9189 - val_loss: 0.3012 - val_accuracy: 0.8904\n",
            "Epoch 18/30\n",
            "5500/5500 [==============================] - 17s 3ms/step - loss: 0.2116 - accuracy: 0.9214 - val_loss: 0.3022 - val_accuracy: 0.8896\n",
            "Epoch 19/30\n",
            "5500/5500 [==============================] - 17s 3ms/step - loss: 0.2059 - accuracy: 0.9242 - val_loss: 0.2961 - val_accuracy: 0.8916\n",
            "Epoch 20/30\n",
            "5500/5500 [==============================] - 17s 3ms/step - loss: 0.2011 - accuracy: 0.9263 - val_loss: 0.2937 - val_accuracy: 0.8968\n",
            "Epoch 21/30\n",
            "5500/5500 [==============================] - 17s 3ms/step - loss: 0.1954 - accuracy: 0.9277 - val_loss: 0.2898 - val_accuracy: 0.8976\n",
            "Epoch 22/30\n",
            "5500/5500 [==============================] - 17s 3ms/step - loss: 0.1893 - accuracy: 0.9300 - val_loss: 0.2992 - val_accuracy: 0.8922\n",
            "Epoch 23/30\n",
            "5500/5500 [==============================] - 18s 3ms/step - loss: 0.1855 - accuracy: 0.9326 - val_loss: 0.2937 - val_accuracy: 0.8980\n",
            "Epoch 24/30\n",
            "5500/5500 [==============================] - 17s 3ms/step - loss: 0.1803 - accuracy: 0.9336 - val_loss: 0.3189 - val_accuracy: 0.8858\n",
            "Epoch 25/30\n",
            "5500/5500 [==============================] - 18s 3ms/step - loss: 0.1759 - accuracy: 0.9352 - val_loss: 0.2979 - val_accuracy: 0.8950\n",
            "Epoch 26/30\n",
            "5500/5500 [==============================] - 18s 3ms/step - loss: 0.1709 - accuracy: 0.9371 - val_loss: 0.2955 - val_accuracy: 0.8986\n",
            "Epoch 27/30\n",
            "5500/5500 [==============================] - 18s 3ms/step - loss: 0.1667 - accuracy: 0.9389 - val_loss: 0.3214 - val_accuracy: 0.8898\n",
            "Epoch 28/30\n",
            "5500/5500 [==============================] - 19s 4ms/step - loss: 0.1640 - accuracy: 0.9391 - val_loss: 0.3049 - val_accuracy: 0.8990\n",
            "Epoch 29/30\n",
            "5500/5500 [==============================] - 18s 3ms/step - loss: 0.1599 - accuracy: 0.9399 - val_loss: 0.3201 - val_accuracy: 0.8894\n",
            "Epoch 30/30\n",
            "5500/5500 [==============================] - 18s 3ms/step - loss: 0.1543 - accuracy: 0.9428 - val_loss: 0.3044 - val_accuracy: 0.8988\n"
          ]
        }
      ]
    },
    {
      "cell_type": "code",
      "source": [
        "import pandas as pd\n",
        "\n",
        "pd.DataFrame(history2.history).plot(figsize=(8, 5))\n",
        "plt.grid(True)\n",
        "plt.gca().set_ylim(0, 1)\n",
        "plt.show()"
      ],
      "metadata": {
        "colab": {
          "base_uri": "https://localhost:8080/",
          "height": 328
        },
        "id": "Jt8OLS19gYpe",
        "outputId": "c4b4d62f-9c8a-4f1c-b7a8-c721d2450faa"
      },
      "execution_count": 49,
      "outputs": [
        {
          "output_type": "display_data",
          "data": {
            "text/plain": [
              "<Figure size 576x360 with 1 Axes>"
            ],
            "image/png": "[encoded data removed]"
          },
          "metadata": {
            "needs_background": "light"
          }
        }
      ]
    },
    {
      "cell_type": "markdown",
      "source": [
        "### 3-Plot Learning curves when using different number of epochs"
      ],
      "metadata": {
        "id": "k_-KYbbFjkkQ"
      }
    },
    {
      "cell_type": "code",
      "source": [
        "model3 = keras.models.Sequential([\n",
        "    keras.layers.Flatten(input_shape=[28, 28]),\n",
        "    keras.layers.Dense(300, activation=\"relu\"),\n",
        "    keras.layers.Dense(100, activation=\"relu\"),\n",
        "    keras.layers.Dense(10, activation=\"softmax\")\n",
        "])"
      ],
      "metadata": {
        "id": "km3uitPIgYsc"
      },
      "execution_count": 50,
      "outputs": []
    },
    {
      "cell_type": "code",
      "source": [
        "model3.compile(loss=\"sparse_categorical_crossentropy\",\n",
        "              optimizer=\"sgd\",\n",
        "              metrics=[\"accuracy\"])"
      ],
      "metadata": {
        "id": "WN_X7Ly5j16e"
      },
      "execution_count": 51,
      "outputs": []
    },
    {
      "cell_type": "code",
      "source": [
        "history3 = model3.fit(X_train, y_train, batch_size=32, epochs=10,\n",
        "                    validation_data=(X_valid, y_valid))"
      ],
      "metadata": {
        "colab": {
          "base_uri": "https://localhost:8080/"
        },
        "id": "sbZKS4Y_j4xb",
        "outputId": "16e68898-3d5f-4bbe-9647-ece6d7a2c3ed"
      },
      "execution_count": 52,
      "outputs": [
        {
          "output_type": "stream",
          "name": "stdout",
          "text": [
            "Epoch 1/10\n",
            "1719/1719 [==============================] - 7s 4ms/step - loss: 0.7178 - accuracy: 0.7639 - val_loss: 0.5025 - val_accuracy: 0.8276\n",
            "Epoch 2/10\n",
            "1719/1719 [==============================] - 7s 4ms/step - loss: 0.4893 - accuracy: 0.8293 - val_loss: 0.4552 - val_accuracy: 0.8402\n",
            "Epoch 3/10\n",
            "1719/1719 [==============================] - 7s 4ms/step - loss: 0.4433 - accuracy: 0.8443 - val_loss: 0.4085 - val_accuracy: 0.8612\n",
            "Epoch 4/10\n",
            "1719/1719 [==============================] - 7s 4ms/step - loss: 0.4150 - accuracy: 0.8549 - val_loss: 0.3910 - val_accuracy: 0.8652\n",
            "Epoch 5/10\n",
            "1719/1719 [==============================] - 7s 4ms/step - loss: 0.3957 - accuracy: 0.8619 - val_loss: 0.4013 - val_accuracy: 0.8614\n",
            "Epoch 6/10\n",
            "1719/1719 [==============================] - 7s 4ms/step - loss: 0.3795 - accuracy: 0.8664 - val_loss: 0.3799 - val_accuracy: 0.8694\n",
            "Epoch 7/10\n",
            "1719/1719 [==============================] - 7s 4ms/step - loss: 0.3669 - accuracy: 0.8702 - val_loss: 0.3762 - val_accuracy: 0.8672\n",
            "Epoch 8/10\n",
            "1719/1719 [==============================] - 6s 4ms/step - loss: 0.3548 - accuracy: 0.8754 - val_loss: 0.3690 - val_accuracy: 0.8684\n",
            "Epoch 9/10\n",
            "1719/1719 [==============================] - 6s 4ms/step - loss: 0.3443 - accuracy: 0.8793 - val_loss: 0.3554 - val_accuracy: 0.8738\n",
            "Epoch 10/10\n",
            "1719/1719 [==============================] - 6s 4ms/step - loss: 0.3356 - accuracy: 0.8806 - val_loss: 0.3462 - val_accuracy: 0.8742\n"
          ]
        }
      ]
    },
    {
      "cell_type": "code",
      "source": [
        "import pandas as pd\n",
        "\n",
        "pd.DataFrame(history3.history).plot(figsize=(8, 5))\n",
        "plt.grid(True)\n",
        "plt.gca().set_ylim(0, 1)\n",
        "plt.show()"
      ],
      "metadata": {
        "colab": {
          "base_uri": "https://localhost:8080/",
          "height": 328
        },
        "id": "GV52ZK2hkBBx",
        "outputId": "5aa08a10-b330-4547-8a1f-508b8f8b9283"
      },
      "execution_count": 53,
      "outputs": [
        {
          "output_type": "display_data",
          "data": {
            "text/plain": [
              "<Figure size 576x360 with 1 Axes>"
            ],
            "image/png": "[encoded data removed]"
          },
          "metadata": {
            "needs_background": "light"
          }
        }
      ]
    },
    {
      "cell_type": "markdown",
      "source": [
        "### 4-Add additional neurons and use Dropout Layer. Plot Learning curves"
      ],
      "metadata": {
        "id": "vgri15mHknNR"
      }
    },
    {
      "cell_type": "code",
      "source": [
        "\n",
        "model4 = keras.models.Sequential([\n",
        "    keras.layers.Flatten(input_shape=[28, 28]),\n",
        "    keras.layers.Dropout(0.2),\n",
        "    keras.layers.Dense(300, activation=\"relu\"),\n",
        "    keras.layers.Dense(100, activation=\"relu\"),\n",
        "    keras.layers.Dense(10, activation=\"softmax\")\n",
        "])"
      ],
      "metadata": {
        "id": "weUkQRvcktZE"
      },
      "execution_count": 54,
      "outputs": []
    },
    {
      "cell_type": "code",
      "source": [
        "model4.compile(loss=\"sparse_categorical_crossentropy\",\n",
        "              optimizer=\"sgd\",\n",
        "              metrics=[\"accuracy\"])"
      ],
      "metadata": {
        "id": "v1wxWY9plF_z"
      },
      "execution_count": 55,
      "outputs": []
    },
    {
      "cell_type": "code",
      "source": [
        "history4 = model4.fit(X_train, y_train, batch_size=32, epochs=30,\n",
        "                    validation_data=(X_valid, y_valid))"
      ],
      "metadata": {
        "colab": {
          "base_uri": "https://localhost:8080/"
        },
        "id": "PSM7XnmjlKBT",
        "outputId": "9c5806a8-82f7-41b0-d360-ca052c5e6e0e"
      },
      "execution_count": 56,
      "outputs": [
        {
          "output_type": "stream",
          "name": "stdout",
          "text": [
            "Epoch 1/30\n",
            "1719/1719 [==============================] - 8s 4ms/step - loss: 0.7677 - accuracy: 0.7361 - val_loss: 0.5229 - val_accuracy: 0.8246\n",
            "Epoch 2/30\n",
            "1719/1719 [==============================] - 7s 4ms/step - loss: 0.5423 - accuracy: 0.8083 - val_loss: 0.4657 - val_accuracy: 0.8432\n",
            "Epoch 3/30\n",
            "1719/1719 [==============================] - 7s 4ms/step - loss: 0.4998 - accuracy: 0.8231 - val_loss: 0.4348 - val_accuracy: 0.8478\n",
            "Epoch 4/30\n",
            "1719/1719 [==============================] - 7s 4ms/step - loss: 0.4700 - accuracy: 0.8326 - val_loss: 0.4108 - val_accuracy: 0.8596\n",
            "Epoch 5/30\n",
            "1719/1719 [==============================] - 7s 4ms/step - loss: 0.4535 - accuracy: 0.8386 - val_loss: 0.4066 - val_accuracy: 0.8558\n",
            "Epoch 6/30\n",
            "1719/1719 [==============================] - 7s 4ms/step - loss: 0.4389 - accuracy: 0.8428 - val_loss: 0.3858 - val_accuracy: 0.8698\n",
            "Epoch 7/30\n",
            "1719/1719 [==============================] - 7s 4ms/step - loss: 0.4274 - accuracy: 0.8472 - val_loss: 0.3854 - val_accuracy: 0.8606\n",
            "Epoch 8/30\n",
            "1719/1719 [==============================] - 7s 4ms/step - loss: 0.4150 - accuracy: 0.8511 - val_loss: 0.3724 - val_accuracy: 0.8718\n",
            "Epoch 9/30\n",
            "1719/1719 [==============================] - 7s 4ms/step - loss: 0.4089 - accuracy: 0.8525 - val_loss: 0.3737 - val_accuracy: 0.8696\n",
            "Epoch 10/30\n",
            "1719/1719 [==============================] - 7s 4ms/step - loss: 0.3977 - accuracy: 0.8557 - val_loss: 0.3554 - val_accuracy: 0.8778\n",
            "Epoch 11/30\n",
            "1719/1719 [==============================] - 7s 4ms/step - loss: 0.3898 - accuracy: 0.8588 - val_loss: 0.3602 - val_accuracy: 0.8724\n",
            "Epoch 12/30\n",
            "1719/1719 [==============================] - 7s 4ms/step - loss: 0.3870 - accuracy: 0.8586 - val_loss: 0.3517 - val_accuracy: 0.8754\n",
            "Epoch 13/30\n",
            "1719/1719 [==============================] - 7s 4ms/step - loss: 0.3776 - accuracy: 0.8637 - val_loss: 0.3452 - val_accuracy: 0.8790\n",
            "Epoch 14/30\n",
            "1719/1719 [==============================] - 7s 4ms/step - loss: 0.3724 - accuracy: 0.8639 - val_loss: 0.3369 - val_accuracy: 0.8822\n",
            "Epoch 15/30\n",
            "1719/1719 [==============================] - 7s 4ms/step - loss: 0.3692 - accuracy: 0.8648 - val_loss: 0.3328 - val_accuracy: 0.8830\n",
            "Epoch 16/30\n",
            "1719/1719 [==============================] - 7s 4ms/step - loss: 0.3623 - accuracy: 0.8697 - val_loss: 0.3292 - val_accuracy: 0.8810\n",
            "Epoch 17/30\n",
            "1719/1719 [==============================] - 7s 4ms/step - loss: 0.3606 - accuracy: 0.8671 - val_loss: 0.3263 - val_accuracy: 0.8860\n",
            "Epoch 18/30\n",
            "1719/1719 [==============================] - 7s 4ms/step - loss: 0.3553 - accuracy: 0.8695 - val_loss: 0.3260 - val_accuracy: 0.8844\n",
            "Epoch 19/30\n",
            "1719/1719 [==============================] - 7s 4ms/step - loss: 0.3482 - accuracy: 0.8719 - val_loss: 0.3302 - val_accuracy: 0.8818\n",
            "Epoch 20/30\n",
            "1719/1719 [==============================] - 8s 4ms/step - loss: 0.3468 - accuracy: 0.8721 - val_loss: 0.3182 - val_accuracy: 0.8862\n",
            "Epoch 21/30\n",
            "1719/1719 [==============================] - 7s 4ms/step - loss: 0.3429 - accuracy: 0.8747 - val_loss: 0.3156 - val_accuracy: 0.8886\n",
            "Epoch 22/30\n",
            "1719/1719 [==============================] - 7s 4ms/step - loss: 0.3390 - accuracy: 0.8750 - val_loss: 0.3146 - val_accuracy: 0.8870\n",
            "Epoch 23/30\n",
            "1719/1719 [==============================] - 7s 4ms/step - loss: 0.3344 - accuracy: 0.8764 - val_loss: 0.3095 - val_accuracy: 0.8898\n",
            "Epoch 24/30\n",
            "1719/1719 [==============================] - 8s 5ms/step - loss: 0.3317 - accuracy: 0.8774 - val_loss: 0.3078 - val_accuracy: 0.8908\n",
            "Epoch 25/30\n",
            "1719/1719 [==============================] - 7s 4ms/step - loss: 0.3292 - accuracy: 0.8786 - val_loss: 0.3167 - val_accuracy: 0.8884\n",
            "Epoch 26/30\n",
            "1719/1719 [==============================] - 7s 4ms/step - loss: 0.3286 - accuracy: 0.8795 - val_loss: 0.3062 - val_accuracy: 0.8882\n",
            "Epoch 27/30\n",
            "1719/1719 [==============================] - 7s 4ms/step - loss: 0.3236 - accuracy: 0.8804 - val_loss: 0.3035 - val_accuracy: 0.8916\n",
            "Epoch 28/30\n",
            "1719/1719 [==============================] - 7s 4ms/step - loss: 0.3206 - accuracy: 0.8809 - val_loss: 0.2989 - val_accuracy: 0.8914\n",
            "Epoch 29/30\n",
            "1719/1719 [==============================] - 7s 4ms/step - loss: 0.3201 - accuracy: 0.8822 - val_loss: 0.3050 - val_accuracy: 0.8940\n",
            "Epoch 30/30\n",
            "1719/1719 [==============================] - 7s 4ms/step - loss: 0.3180 - accuracy: 0.8833 - val_loss: 0.2987 - val_accuracy: 0.8920\n"
          ]
        }
      ]
    },
    {
      "cell_type": "code",
      "source": [
        "import pandas as pd\n",
        "\n",
        "pd.DataFrame(history4.history).plot(figsize=(8, 5))\n",
        "plt.grid(True)\n",
        "plt.gca().set_ylim(0, 1)\n",
        "plt.show()"
      ],
      "metadata": {
        "colab": {
          "base_uri": "https://localhost:8080/",
          "height": 328
        },
        "id": "a29a0yT4lMqd",
        "outputId": "1d5ab183-8676-41a3-c2cf-30d698709003"
      },
      "execution_count": 57,
      "outputs": [
        {
          "output_type": "display_data",
          "data": {
            "text/plain": [
              "<Figure size 576x360 with 1 Axes>"
            ],
            "image/png": "[encoded data removed]"
          },
          "metadata": {
            "needs_background": "light"
          }
        }
      ]
    },
    {
      "cell_type": "markdown",
      "source": [
        "### 5- Use Batch Normalisation"
      ],
      "metadata": {
        "id": "3zbd2bCHnJLT"
      }
    },
    {
      "cell_type": "code",
      "source": [
        "model5 = keras.models.Sequential([\n",
        "    keras.layers.Flatten(input_shape=[28, 28]),\n",
        "    keras.layers.Dense(300, activation=\"relu\"),\n",
        "    keras.layers.BatchNormalization(input_shape=(2,)),\n",
        "    keras.layers.Dense(100, activation=\"relu\"),\n",
        "    keras.layers.Dense(10, activation=\"softmax\")\n",
        "])\n",
        "\n"
      ],
      "metadata": {
        "id": "Ry_pQnbunVH-"
      },
      "execution_count": 58,
      "outputs": []
    },
    {
      "cell_type": "code",
      "source": [
        "model5.compile(loss=\"sparse_categorical_crossentropy\",\n",
        "              optimizer=\"sgd\",\n",
        "              metrics=[\"accuracy\"])"
      ],
      "metadata": {
        "id": "w5d8Pe1InaQr"
      },
      "execution_count": 59,
      "outputs": []
    },
    {
      "cell_type": "code",
      "source": [
        "history5 = model5.fit(X_train, y_train, batch_size=32, epochs=30,\n",
        "                    validation_data=(X_valid, y_valid))"
      ],
      "metadata": {
        "colab": {
          "base_uri": "https://localhost:8080/"
        },
        "id": "ovG2akjEnce_",
        "outputId": "768080a5-08a6-4ee3-8bf8-5c4a2b808342"
      },
      "execution_count": 60,
      "outputs": [
        {
          "output_type": "stream",
          "name": "stdout",
          "text": [
            "Epoch 1/30\n",
            "1719/1719 [==============================] - 8s 4ms/step - loss: 0.5251 - accuracy: 0.8147 - val_loss: 0.4036 - val_accuracy: 0.8546\n",
            "Epoch 2/30\n",
            "1719/1719 [==============================] - 7s 4ms/step - loss: 0.3865 - accuracy: 0.8615 - val_loss: 0.3648 - val_accuracy: 0.8656\n",
            "Epoch 3/30\n",
            "1719/1719 [==============================] - 7s 4ms/step - loss: 0.3475 - accuracy: 0.8736 - val_loss: 0.3353 - val_accuracy: 0.8778\n",
            "Epoch 4/30\n",
            "1719/1719 [==============================] - 7s 4ms/step - loss: 0.3242 - accuracy: 0.8821 - val_loss: 0.3231 - val_accuracy: 0.8832\n",
            "Epoch 5/30\n",
            "1719/1719 [==============================] - 7s 4ms/step - loss: 0.3079 - accuracy: 0.8871 - val_loss: 0.3227 - val_accuracy: 0.8820\n",
            "Epoch 6/30\n",
            "1719/1719 [==============================] - 7s 4ms/step - loss: 0.2950 - accuracy: 0.8907 - val_loss: 0.3191 - val_accuracy: 0.8840\n",
            "Epoch 7/30\n",
            "1719/1719 [==============================] - 7s 4ms/step - loss: 0.2794 - accuracy: 0.8980 - val_loss: 0.3245 - val_accuracy: 0.8838\n",
            "Epoch 8/30\n",
            "1719/1719 [==============================] - 7s 4ms/step - loss: 0.2701 - accuracy: 0.8993 - val_loss: 0.3157 - val_accuracy: 0.8850\n",
            "Epoch 9/30\n",
            "1719/1719 [==============================] - 10s 6ms/step - loss: 0.2593 - accuracy: 0.9040 - val_loss: 0.3373 - val_accuracy: 0.8764\n",
            "Epoch 10/30\n",
            "1719/1719 [==============================] - 8s 5ms/step - loss: 0.2494 - accuracy: 0.9073 - val_loss: 0.3064 - val_accuracy: 0.8878\n",
            "Epoch 11/30\n",
            "1719/1719 [==============================] - 7s 4ms/step - loss: 0.2388 - accuracy: 0.9118 - val_loss: 0.3012 - val_accuracy: 0.8912\n",
            "Epoch 12/30\n",
            "1719/1719 [==============================] - 7s 4ms/step - loss: 0.2298 - accuracy: 0.9162 - val_loss: 0.3210 - val_accuracy: 0.8808\n",
            "Epoch 13/30\n",
            "1719/1719 [==============================] - 7s 4ms/step - loss: 0.2254 - accuracy: 0.9182 - val_loss: 0.3071 - val_accuracy: 0.8902\n",
            "Epoch 14/30\n",
            "1719/1719 [==============================] - 7s 4ms/step - loss: 0.2172 - accuracy: 0.9201 - val_loss: 0.3066 - val_accuracy: 0.8924\n",
            "Epoch 15/30\n",
            "1719/1719 [==============================] - 7s 4ms/step - loss: 0.2112 - accuracy: 0.9223 - val_loss: 0.3172 - val_accuracy: 0.8858\n",
            "Epoch 16/30\n",
            "1719/1719 [==============================] - 7s 4ms/step - loss: 0.2083 - accuracy: 0.9225 - val_loss: 0.2973 - val_accuracy: 0.8918\n",
            "Epoch 17/30\n",
            "1719/1719 [==============================] - 7s 4ms/step - loss: 0.2011 - accuracy: 0.9259 - val_loss: 0.3176 - val_accuracy: 0.8896\n",
            "Epoch 18/30\n",
            "1719/1719 [==============================] - 7s 4ms/step - loss: 0.1932 - accuracy: 0.9285 - val_loss: 0.3125 - val_accuracy: 0.8902\n",
            "Epoch 19/30\n",
            "1719/1719 [==============================] - 6s 4ms/step - loss: 0.1873 - accuracy: 0.9312 - val_loss: 0.3345 - val_accuracy: 0.8864\n",
            "Epoch 20/30\n",
            "1719/1719 [==============================] - 7s 4ms/step - loss: 0.1857 - accuracy: 0.9315 - val_loss: 0.3126 - val_accuracy: 0.8932\n",
            "Epoch 21/30\n",
            "1719/1719 [==============================] - 7s 4ms/step - loss: 0.1808 - accuracy: 0.9335 - val_loss: 0.3451 - val_accuracy: 0.8752\n",
            "Epoch 22/30\n",
            "1719/1719 [==============================] - 7s 4ms/step - loss: 0.1743 - accuracy: 0.9352 - val_loss: 0.3474 - val_accuracy: 0.8804\n",
            "Epoch 23/30\n",
            "1719/1719 [==============================] - 7s 4ms/step - loss: 0.1710 - accuracy: 0.9378 - val_loss: 0.3169 - val_accuracy: 0.8912\n",
            "Epoch 24/30\n",
            "1719/1719 [==============================] - 7s 4ms/step - loss: 0.1666 - accuracy: 0.9387 - val_loss: 0.3116 - val_accuracy: 0.8964\n",
            "Epoch 25/30\n",
            "1719/1719 [==============================] - 7s 4ms/step - loss: 0.1616 - accuracy: 0.9403 - val_loss: 0.3251 - val_accuracy: 0.8886\n",
            "Epoch 26/30\n",
            "1719/1719 [==============================] - 7s 4ms/step - loss: 0.1621 - accuracy: 0.9397 - val_loss: 0.3336 - val_accuracy: 0.8912\n",
            "Epoch 27/30\n",
            "1719/1719 [==============================] - 7s 4ms/step - loss: 0.1553 - accuracy: 0.9423 - val_loss: 0.3229 - val_accuracy: 0.8882\n",
            "Epoch 28/30\n",
            "1719/1719 [==============================] - 7s 4ms/step - loss: 0.1522 - accuracy: 0.9442 - val_loss: 0.3537 - val_accuracy: 0.8864\n",
            "Epoch 29/30\n",
            "1719/1719 [==============================] - 7s 4ms/step - loss: 0.1477 - accuracy: 0.9461 - val_loss: 0.3127 - val_accuracy: 0.8964\n",
            "Epoch 30/30\n",
            "1719/1719 [==============================] - 7s 4ms/step - loss: 0.1447 - accuracy: 0.9465 - val_loss: 0.3335 - val_accuracy: 0.8958\n"
          ]
        }
      ]
    },
    {
      "cell_type": "code",
      "source": [
        "import pandas as pd\n",
        "\n",
        "pd.DataFrame(history5.history).plot(figsize=(8, 5))\n",
        "plt.grid(True)\n",
        "plt.gca().set_ylim(0, 1)\n",
        "plt.show()"
      ],
      "metadata": {
        "colab": {
          "base_uri": "https://localhost:8080/",
          "height": 328
        },
        "id": "sQcrAdv6nkBp",
        "outputId": "e2473f33-f389-46fc-8256-b1f501871ba0"
      },
      "execution_count": 61,
      "outputs": [
        {
          "output_type": "display_data",
          "data": {
            "text/plain": [
              "<Figure size 576x360 with 1 Axes>"
            ],
            "image/png": "[encoded data removed]"
          },
          "metadata": {
            "needs_background": "light"
          }
        }
      ]
    },
    {
      "cell_type": "markdown",
      "source": [
        "### 6-repeat with more layers"
      ],
      "metadata": {
        "id": "GDGJfLtxzwC7"
      }
    },
    {
      "cell_type": "markdown",
      "source": [
        "# selu function"
      ],
      "metadata": {
        "id": "ciPlWCSn22Ag"
      }
    },
    {
      "cell_type": "code",
      "source": [
        "model6 = keras.models.Sequential([\n",
        "    keras.layers.Flatten(input_shape=[28, 28]),\n",
        "    keras.layers.Dense(300, activation=\"relu\"),\n",
        "    keras.layers.Dense(200, activation=\"selu\"),\n",
        "    keras.layers.Dense(100, activation=\"relu\"),\n",
        "    keras.layers.Dense(10, activation=\"softmax\")\n",
        "])"
      ],
      "metadata": {
        "id": "I6EAowxa0Dp9"
      },
      "execution_count": 62,
      "outputs": []
    },
    {
      "cell_type": "code",
      "source": [
        "model6.compile(loss=\"sparse_categorical_crossentropy\",\n",
        "              optimizer=\"sgd\",\n",
        "              metrics=[\"accuracy\"])"
      ],
      "metadata": {
        "id": "vxYhtKbt0r0q"
      },
      "execution_count": 63,
      "outputs": []
    },
    {
      "cell_type": "code",
      "source": [
        "history6 = model6.fit(X_train, y_train, batch_size=32, epochs=30,\n",
        "                    validation_data=(X_valid, y_valid))"
      ],
      "metadata": {
        "colab": {
          "base_uri": "https://localhost:8080/"
        },
        "id": "UlSl4RkI0sMH",
        "outputId": "6f8ccb2f-77fc-4508-bf6d-ff83ce7258d1"
      },
      "execution_count": 64,
      "outputs": [
        {
          "output_type": "stream",
          "name": "stdout",
          "text": [
            "Epoch 1/30\n",
            "1719/1719 [==============================] - 8s 4ms/step - loss: 0.6277 - accuracy: 0.7898 - val_loss: 0.4699 - val_accuracy: 0.8328\n",
            "Epoch 2/30\n",
            "1719/1719 [==============================] - 7s 4ms/step - loss: 0.4445 - accuracy: 0.8411 - val_loss: 0.4148 - val_accuracy: 0.8548\n",
            "Epoch 3/30\n",
            "1719/1719 [==============================] - 7s 4ms/step - loss: 0.4044 - accuracy: 0.8550 - val_loss: 0.3779 - val_accuracy: 0.8692\n",
            "Epoch 4/30\n",
            "1719/1719 [==============================] - 7s 4ms/step - loss: 0.3777 - accuracy: 0.8645 - val_loss: 0.3669 - val_accuracy: 0.8702\n",
            "Epoch 5/30\n",
            "1719/1719 [==============================] - 7s 4ms/step - loss: 0.3581 - accuracy: 0.8701 - val_loss: 0.3638 - val_accuracy: 0.8744\n",
            "Epoch 6/30\n",
            "1719/1719 [==============================] - 7s 4ms/step - loss: 0.3429 - accuracy: 0.8767 - val_loss: 0.3412 - val_accuracy: 0.8772\n",
            "Epoch 7/30\n",
            "1719/1719 [==============================] - 7s 4ms/step - loss: 0.3296 - accuracy: 0.8819 - val_loss: 0.3324 - val_accuracy: 0.8790\n",
            "Epoch 8/30\n",
            "1719/1719 [==============================] - 7s 4ms/step - loss: 0.3187 - accuracy: 0.8841 - val_loss: 0.3407 - val_accuracy: 0.8794\n",
            "Epoch 9/30\n",
            "1719/1719 [==============================] - 7s 4ms/step - loss: 0.3078 - accuracy: 0.8883 - val_loss: 0.3307 - val_accuracy: 0.8814\n",
            "Epoch 10/30\n",
            "1719/1719 [==============================] - 7s 4ms/step - loss: 0.2980 - accuracy: 0.8913 - val_loss: 0.3336 - val_accuracy: 0.8790\n",
            "Epoch 11/30\n",
            "1719/1719 [==============================] - 7s 4ms/step - loss: 0.2890 - accuracy: 0.8933 - val_loss: 0.3098 - val_accuracy: 0.8878\n",
            "Epoch 12/30\n",
            "1719/1719 [==============================] - 7s 4ms/step - loss: 0.2815 - accuracy: 0.8961 - val_loss: 0.3128 - val_accuracy: 0.8878\n",
            "Epoch 13/30\n",
            "1719/1719 [==============================] - 7s 4ms/step - loss: 0.2752 - accuracy: 0.8991 - val_loss: 0.3182 - val_accuracy: 0.8834\n",
            "Epoch 14/30\n",
            "1719/1719 [==============================] - 7s 4ms/step - loss: 0.2678 - accuracy: 0.9019 - val_loss: 0.3089 - val_accuracy: 0.8884\n",
            "Epoch 15/30\n",
            "1719/1719 [==============================] - 7s 4ms/step - loss: 0.2616 - accuracy: 0.9041 - val_loss: 0.2999 - val_accuracy: 0.8892\n",
            "Epoch 16/30\n",
            "1719/1719 [==============================] - 7s 4ms/step - loss: 0.2548 - accuracy: 0.9063 - val_loss: 0.3204 - val_accuracy: 0.8822\n",
            "Epoch 17/30\n",
            "1719/1719 [==============================] - 7s 4ms/step - loss: 0.2488 - accuracy: 0.9083 - val_loss: 0.3111 - val_accuracy: 0.8862\n",
            "Epoch 18/30\n",
            "1719/1719 [==============================] - 7s 4ms/step - loss: 0.2431 - accuracy: 0.9115 - val_loss: 0.2990 - val_accuracy: 0.8882\n",
            "Epoch 19/30\n",
            "1719/1719 [==============================] - 7s 4ms/step - loss: 0.2385 - accuracy: 0.9114 - val_loss: 0.3163 - val_accuracy: 0.8826\n",
            "Epoch 20/30\n",
            "1719/1719 [==============================] - 7s 4ms/step - loss: 0.2324 - accuracy: 0.9144 - val_loss: 0.3235 - val_accuracy: 0.8878\n",
            "Epoch 21/30\n",
            "1719/1719 [==============================] - 7s 4ms/step - loss: 0.2277 - accuracy: 0.9166 - val_loss: 0.3012 - val_accuracy: 0.8908\n",
            "Epoch 22/30\n",
            "1719/1719 [==============================] - 7s 4ms/step - loss: 0.2228 - accuracy: 0.9188 - val_loss: 0.3075 - val_accuracy: 0.8882\n",
            "Epoch 23/30\n",
            "1719/1719 [==============================] - 7s 4ms/step - loss: 0.2186 - accuracy: 0.9194 - val_loss: 0.3041 - val_accuracy: 0.8932\n",
            "Epoch 24/30\n",
            "1719/1719 [==============================] - 7s 4ms/step - loss: 0.2133 - accuracy: 0.9215 - val_loss: 0.2964 - val_accuracy: 0.8902\n",
            "Epoch 25/30\n",
            "1719/1719 [==============================] - 7s 4ms/step - loss: 0.2089 - accuracy: 0.9236 - val_loss: 0.2980 - val_accuracy: 0.8898\n",
            "Epoch 26/30\n",
            "1719/1719 [==============================] - 7s 4ms/step - loss: 0.2051 - accuracy: 0.9254 - val_loss: 0.3034 - val_accuracy: 0.8924\n",
            "Epoch 27/30\n",
            "1719/1719 [==============================] - 7s 4ms/step - loss: 0.2004 - accuracy: 0.9263 - val_loss: 0.2989 - val_accuracy: 0.8908\n",
            "Epoch 28/30\n",
            "1719/1719 [==============================] - 7s 4ms/step - loss: 0.1956 - accuracy: 0.9279 - val_loss: 0.2907 - val_accuracy: 0.8962\n",
            "Epoch 29/30\n",
            "1719/1719 [==============================] - 7s 4ms/step - loss: 0.1912 - accuracy: 0.9304 - val_loss: 0.3486 - val_accuracy: 0.8816\n",
            "Epoch 30/30\n",
            "1719/1719 [==============================] - 7s 4ms/step - loss: 0.1880 - accuracy: 0.9314 - val_loss: 0.2945 - val_accuracy: 0.8922\n"
          ]
        }
      ]
    },
    {
      "cell_type": "code",
      "source": [
        "import pandas as pd\n",
        "\n",
        "pd.DataFrame(history6.history).plot(figsize=(8, 5))\n",
        "plt.grid(True)\n",
        "plt.gca().set_ylim(0, 1)\n",
        "plt.show()"
      ],
      "metadata": {
        "colab": {
          "base_uri": "https://localhost:8080/",
          "height": 328
        },
        "id": "sC0GHpMZ0sPt",
        "outputId": "f13680a7-add7-4d2a-d216-4008416bef49"
      },
      "execution_count": 65,
      "outputs": [
        {
          "output_type": "display_data",
          "data": {
            "text/plain": [
              "<Figure size 576x360 with 1 Axes>"
            ],
            "image/png": "[encoded data removed]"
          },
          "metadata": {
            "needs_background": "light"
          }
        }
      ]
    },
    {
      "cell_type": "markdown",
      "source": [
        "# sigmoid function"
      ],
      "metadata": {
        "id": "JZqJ6YN62_5A"
      }
    },
    {
      "cell_type": "code",
      "source": [
        "model7 = keras.models.Sequential([\n",
        "    keras.layers.Flatten(input_shape=[28, 28]),\n",
        "    keras.layers.Dense(300, activation=\"relu\"),\n",
        "    #keras.layers.Dense(200, activation=\"selu\"),\n",
        "    keras.layers.Dense(200, activation=\"sigmoid\"),\n",
        "    keras.layers.Dense(100, activation=\"relu\"),\n",
        "    keras.layers.Dense(10, activation=\"softmax\")\n",
        "])\n",
        "model7.compile(loss=\"sparse_categorical_crossentropy\",\n",
        "              optimizer=\"sgd\",\n",
        "              metrics=[\"accuracy\"])"
      ],
      "metadata": {
        "id": "bhdk6mng3AGD"
      },
      "execution_count": 66,
      "outputs": []
    },
    {
      "cell_type": "code",
      "source": [
        "history7 = model7.fit(X_train, y_train, batch_size=32, epochs=30,\n",
        "                    validation_data=(X_valid, y_valid))"
      ],
      "metadata": {
        "colab": {
          "base_uri": "https://localhost:8080/"
        },
        "id": "IvAL3ife3AJq",
        "outputId": "64735657-2dab-4d71-a5ab-1cd00c3dfe55"
      },
      "execution_count": 67,
      "outputs": [
        {
          "output_type": "stream",
          "name": "stdout",
          "text": [
            "Epoch 1/30\n",
            "1719/1719 [==============================] - 8s 4ms/step - loss: 1.1406 - accuracy: 0.6481 - val_loss: 0.6811 - val_accuracy: 0.7648\n",
            "Epoch 2/30\n",
            "1719/1719 [==============================] - 7s 4ms/step - loss: 0.6175 - accuracy: 0.7785 - val_loss: 0.5512 - val_accuracy: 0.8068\n",
            "Epoch 3/30\n",
            "1719/1719 [==============================] - 7s 4ms/step - loss: 0.5406 - accuracy: 0.8070 - val_loss: 0.4996 - val_accuracy: 0.8304\n",
            "Epoch 4/30\n",
            "1719/1719 [==============================] - 7s 4ms/step - loss: 0.4955 - accuracy: 0.8238 - val_loss: 0.4715 - val_accuracy: 0.8364\n",
            "Epoch 5/30\n",
            "1719/1719 [==============================] - 8s 4ms/step - loss: 0.4653 - accuracy: 0.8344 - val_loss: 0.4364 - val_accuracy: 0.8524\n",
            "Epoch 6/30\n",
            "1719/1719 [==============================] - 8s 5ms/step - loss: 0.4434 - accuracy: 0.8419 - val_loss: 0.4405 - val_accuracy: 0.8458\n",
            "Epoch 7/30\n",
            "1719/1719 [==============================] - 7s 4ms/step - loss: 0.4264 - accuracy: 0.8475 - val_loss: 0.4188 - val_accuracy: 0.8562\n",
            "Epoch 8/30\n",
            "1719/1719 [==============================] - 8s 4ms/step - loss: 0.4117 - accuracy: 0.8529 - val_loss: 0.4039 - val_accuracy: 0.8572\n",
            "Epoch 9/30\n",
            "1719/1719 [==============================] - 7s 4ms/step - loss: 0.3993 - accuracy: 0.8577 - val_loss: 0.3885 - val_accuracy: 0.8634\n",
            "Epoch 10/30\n",
            "1719/1719 [==============================] - 7s 4ms/step - loss: 0.3893 - accuracy: 0.8614 - val_loss: 0.3994 - val_accuracy: 0.8590\n",
            "Epoch 11/30\n",
            "1719/1719 [==============================] - 7s 4ms/step - loss: 0.3796 - accuracy: 0.8649 - val_loss: 0.3759 - val_accuracy: 0.8662\n",
            "Epoch 12/30\n",
            "1719/1719 [==============================] - 7s 4ms/step - loss: 0.3715 - accuracy: 0.8664 - val_loss: 0.3747 - val_accuracy: 0.8686\n",
            "Epoch 13/30\n",
            "1719/1719 [==============================] - 7s 4ms/step - loss: 0.3639 - accuracy: 0.8703 - val_loss: 0.3725 - val_accuracy: 0.8684\n",
            "Epoch 14/30\n",
            "1719/1719 [==============================] - 7s 4ms/step - loss: 0.3568 - accuracy: 0.8727 - val_loss: 0.3752 - val_accuracy: 0.8678\n",
            "Epoch 15/30\n",
            "1719/1719 [==============================] - 7s 4ms/step - loss: 0.3502 - accuracy: 0.8745 - val_loss: 0.3640 - val_accuracy: 0.8730\n",
            "Epoch 16/30\n",
            "1719/1719 [==============================] - 7s 4ms/step - loss: 0.3453 - accuracy: 0.8767 - val_loss: 0.3489 - val_accuracy: 0.8764\n",
            "Epoch 17/30\n",
            "1719/1719 [==============================] - 7s 4ms/step - loss: 0.3388 - accuracy: 0.8785 - val_loss: 0.3671 - val_accuracy: 0.8710\n",
            "Epoch 18/30\n",
            "1719/1719 [==============================] - 7s 4ms/step - loss: 0.3330 - accuracy: 0.8802 - val_loss: 0.3416 - val_accuracy: 0.8772\n",
            "Epoch 19/30\n",
            "1719/1719 [==============================] - 7s 4ms/step - loss: 0.3281 - accuracy: 0.8821 - val_loss: 0.3479 - val_accuracy: 0.8774\n",
            "Epoch 20/30\n",
            "1719/1719 [==============================] - 7s 4ms/step - loss: 0.3241 - accuracy: 0.8832 - val_loss: 0.3450 - val_accuracy: 0.8734\n",
            "Epoch 21/30\n",
            "1719/1719 [==============================] - 7s 4ms/step - loss: 0.3192 - accuracy: 0.8855 - val_loss: 0.3409 - val_accuracy: 0.8790\n",
            "Epoch 22/30\n",
            "1719/1719 [==============================] - 7s 4ms/step - loss: 0.3142 - accuracy: 0.8874 - val_loss: 0.3279 - val_accuracy: 0.8846\n",
            "Epoch 23/30\n",
            "1719/1719 [==============================] - 7s 4ms/step - loss: 0.3097 - accuracy: 0.8886 - val_loss: 0.3278 - val_accuracy: 0.8808\n",
            "Epoch 24/30\n",
            "1719/1719 [==============================] - 7s 4ms/step - loss: 0.3047 - accuracy: 0.8907 - val_loss: 0.3260 - val_accuracy: 0.8876\n",
            "Epoch 25/30\n",
            "1719/1719 [==============================] - 7s 4ms/step - loss: 0.3005 - accuracy: 0.8906 - val_loss: 0.3295 - val_accuracy: 0.8846\n",
            "Epoch 26/30\n",
            "1719/1719 [==============================] - 8s 4ms/step - loss: 0.2966 - accuracy: 0.8935 - val_loss: 0.3315 - val_accuracy: 0.8828\n",
            "Epoch 27/30\n",
            "1719/1719 [==============================] - 7s 4ms/step - loss: 0.2932 - accuracy: 0.8936 - val_loss: 0.3386 - val_accuracy: 0.8816\n",
            "Epoch 28/30\n",
            "1719/1719 [==============================] - 7s 4ms/step - loss: 0.2899 - accuracy: 0.8961 - val_loss: 0.3143 - val_accuracy: 0.8878\n",
            "Epoch 29/30\n",
            "1719/1719 [==============================] - 7s 4ms/step - loss: 0.2851 - accuracy: 0.8968 - val_loss: 0.3233 - val_accuracy: 0.8838\n",
            "Epoch 30/30\n",
            "1719/1719 [==============================] - 8s 4ms/step - loss: 0.2820 - accuracy: 0.8980 - val_loss: 0.3144 - val_accuracy: 0.8890\n"
          ]
        }
      ]
    },
    {
      "cell_type": "code",
      "source": [
        "import pandas as pd\n",
        "\n",
        "pd.DataFrame(history7.history).plot(figsize=(8, 5))\n",
        "plt.grid(True)\n",
        "plt.gca().set_ylim(0, 1)\n",
        "plt.show()"
      ],
      "metadata": {
        "colab": {
          "base_uri": "https://localhost:8080/",
          "height": 328
        },
        "id": "AnsYwgLG3ANI",
        "outputId": "5a7675a6-2106-4209-aaa0-587ac64ecd23"
      },
      "execution_count": 68,
      "outputs": [
        {
          "output_type": "display_data",
          "data": {
            "text/plain": [
              "<Figure size 576x360 with 1 Axes>"
            ],
            "image/png": "[encoded data removed]"
          },
          "metadata": {
            "needs_background": "light"
          }
        }
      ]
    },
    {
      "cell_type": "markdown",
      "source": [
        "### 7-apply on different datasets"
      ],
      "metadata": {
        "id": "4C9o3vpF4sFD"
      }
    },
    {
      "cell_type": "code",
      "source": [
        ""
      ],
      "metadata": {
        "id": "D2EIQLv83APm"
      },
      "execution_count": null,
      "outputs": []
    }
  ],
  "metadata": {
    "kernelspec": {
      "display_name": "Python 3",
      "language": "python",
      "name": "python3"
    },
    "language_info": {
      "codemirror_mode": {
        "name": "ipython",
        "version": 3
      },
      "file_extension": ".py",
      "mimetype": "text/x-python",
      "name": "python",
      "nbconvert_exporter": "python",
      "pygments_lexer": "ipython3",
      "version": "3.6.1"
    },
    "nav_menu": {
      "height": "264px",
      "width": "369px"
    },
    "toc": {
      "navigate_menu": true,
      "number_sections": true,
      "sideBar": true,
      "threshold": 6,
      "toc_cell": false,
      "toc_section_display": "block",
      "toc_window_display": false
    },
    "colab": {
      "name": "Copie de ANN_with_keras.ipynb",
      "provenance": []
    }
  },
  "nbformat": 4,
  "nbformat_minor": 0
}